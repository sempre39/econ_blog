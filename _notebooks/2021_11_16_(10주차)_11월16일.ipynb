{
 "cells": [
  {
   "cell_type": "code",
   "execution_count": 1,
   "id": "7f32c2ad",
   "metadata": {
    "id": "7f32c2ad"
   },
   "outputs": [],
   "source": [
    "options(jupyter.rich_display=FALSE)"
   ]
  },
  {
   "cell_type": "markdown",
   "id": "b6d0cf30-4bf2-42f9-a779-0a78f951cff1",
   "metadata": {
    "id": "b6d0cf30-4bf2-42f9-a779-0a78f951cff1",
    "tags": []
   },
   "source": [
    "# (10주차) 11월16일\n",
    "> 리스트\n",
    "- toc:true\n",
    "- branch: master\n",
    "- badges: true\n",
    "- comments: true\n",
    "- author: 최규빈"
   ]
  },
  {
   "cell_type": "markdown",
   "id": "02ea308d-6f8b-4b69-8101-505f2b86784d",
   "metadata": {
    "id": "02ea308d-6f8b-4b69-8101-505f2b86784d"
   },
   "source": [
    "### 강의영상 "
   ]
  },
  {
   "cell_type": "markdown",
   "id": "a24570f1-7c0f-4c84-b1ab-95f3bbf5f890",
   "metadata": {
    "id": "a24570f1-7c0f-4c84-b1ab-95f3bbf5f890"
   },
   "source": [
   ]
  },
  {
   "cell_type": "markdown",
   "id": "c0def622-656a-4cd9-a07a-e06f54c20a13",
   "metadata": {
    "id": "c0def622-656a-4cd9-a07a-e06f54c20a13"
   },
   "source": [
    "`-` (1/5) 리스트 (1)\n",
    "\n",
    "`-` (2/5) 리스트 (2)\n",
    "\n",
    "`-` (3/5) 리스트 (3)\n",
    "\n",
    "`-` (4/5) 리스트 (4)\n",
    "\n",
    "`-` (5/5) 리스트 (5) "
   ]
  },
  {
   "cell_type": "markdown",
   "id": "c03425a6",
   "metadata": {
    "id": "c03425a6"
   },
   "source": [
    "### R도서 참고자료 "
   ]
  },
  {
   "cell_type": "markdown",
   "id": "dba4cda2",
   "metadata": {
    "id": "dba4cda2"
   },
   "source": [
    "`-` https://rc2e.com/"
   ]
  },
  {
   "cell_type": "markdown",
   "id": "dc02492d",
   "metadata": {
    "id": "dc02492d"
   },
   "source": [
    "`-` https://adv-r.hadley.nz/ "
   ]
  },
  {
   "cell_type": "markdown",
   "id": "e55933f6-ff72-49cf-a72e-3e24e1481437",
   "metadata": {
    "id": "e55933f6-ff72-49cf-a72e-3e24e1481437"
   },
   "source": [
    "`-` https://r4ds.had.co.nz/"
   ]
  },
  {
   "cell_type": "markdown",
   "id": "c6b513ab",
   "metadata": {
    "id": "c6b513ab"
   },
   "source": [
    "### 기말고사 "
   ]
  },
  {
   "cell_type": "markdown",
   "id": "91f80fd3",
   "metadata": {
    "id": "91f80fd3"
   },
   "source": [
    "`-` 중간고사와 비슷하게 낼 예정. 범위도 거의 비슷. "
   ]
  },
  {
   "cell_type": "markdown",
   "id": "44537dfd",
   "metadata": {
    "id": "44537dfd"
   },
   "source": [
    "`-` 중간고사때 까지의 내용만 극한으로 단련해도 어느정도는 풀 수 있을 거에요. "
   ]
  },
  {
   "cell_type": "markdown",
   "id": "055867be",
   "metadata": {
    "id": "055867be"
   },
   "source": [
    "`-` 코드를 좀 더 예쁘게 효율적으로 만들기 위한 다양한 문법 및 기능이 필요한데 중간~기말 이후에는 그것을 채우는 과정 "
   ]
  },
  {
   "cell_type": "markdown",
   "id": "5cdc603c",
   "metadata": {
    "id": "5cdc603c"
   },
   "source": [
    "`-` 수업목표: \n",
    "- 문제상황 (어떠한 것을 계산해야 하는 일이 생길때) 알고리즘을 머리속에 떠올릴 수 있다. \n",
    "- 머리속에 떠올린 알고리즘을 기본적인 제어문과 반복문을 통하여 구현할 수 있다. (이미 한 내용, 그런데 지금부터는 좀 더 예쁘고 효율적으로 구현하는 방법을 설명하겠습니다) "
   ]
  },
  {
   "cell_type": "markdown",
   "id": "53515341",
   "metadata": {
    "id": "53515341"
   },
   "source": [
    "### 리스트 "
   ]
  },
  {
   "cell_type": "markdown",
   "id": "118d226b",
   "metadata": {
    "id": "118d226b"
   },
   "source": [
    "`-` 이상한 자료형 "
   ]
  },
  {
   "cell_type": "markdown",
   "id": "ab928ba7",
   "metadata": {
    "id": "ab928ba7"
   },
   "source": [
    "`-` 제가 굉장히 많이 사용하는 자료형태.. 그런데 왜 쓰는지 이유를 물어보면 딱히 잘 모르겠어요 "
   ]
  },
  {
   "cell_type": "markdown",
   "id": "c4ddd119",
   "metadata": {
    "id": "c4ddd119"
   },
   "source": [
    "#### 예제1"
   ]
  },
  {
   "cell_type": "markdown",
   "id": "29dd9c21",
   "metadata": {
    "id": "29dd9c21"
   },
   "source": [
    "`-` 리스트를 선언하는 방법"
   ]
  },
  {
   "cell_type": "code",
   "execution_count": 2,
   "id": "3583b5ea",
   "metadata": {
    "id": "3583b5ea"
   },
   "outputs": [],
   "source": [
    "lst = list(5:10,c(\"A\",\"B\",\"C\"),matrix(c(T,T,F,T),ncol=2))"
   ]
  },
  {
   "cell_type": "code",
   "execution_count": 3,
   "id": "c8408668",
   "metadata": {
    "id": "c8408668",
    "outputId": "30b1cb37-9f1d-4ba6-8fea-80f5e605e7d2"
   },
   "outputs": [
    {
     "data": {
      "text/plain": [
       "[[1]]\n",
       "[1]  5  6  7  8  9 10\n",
       "\n",
       "[[2]]\n",
       "[1] \"A\" \"B\" \"C\"\n",
       "\n",
       "[[3]]\n",
       "     [,1]  [,2]\n",
       "[1,] TRUE FALSE\n",
       "[2,] TRUE  TRUE\n"
      ]
     },
     "metadata": {},
     "output_type": "display_data"
    }
   ],
   "source": [
    "lst"
   ]
  },
  {
   "cell_type": "markdown",
   "id": "de973af1",
   "metadata": {
    "id": "de973af1"
   },
   "source": [
    "- 리스트의 첫번째 원소 = 숫자로 이루어진 벡터\n",
    "- 리스트의 두번째 원소 = 문자로 이루어진 벡터 \n",
    "- 리스트의 세번째 원소 = True / False로 이루어진 매트릭스 "
   ]
  },
  {
   "cell_type": "markdown",
   "id": "494e3dcf",
   "metadata": {
    "id": "494e3dcf"
   },
   "source": [
    "`-` 리스트의 각 원소를 추출하는 방법 "
   ]
  },
  {
   "cell_type": "code",
   "execution_count": 4,
   "id": "be3141a1",
   "metadata": {
    "id": "be3141a1",
    "outputId": "6108abe2-2b4a-4603-ced1-1209583cb1dd"
   },
   "outputs": [
    {
     "data": {
      "text/plain": [
       "[1]  5  6  7  8  9 10"
      ]
     },
     "metadata": {},
     "output_type": "display_data"
    }
   ],
   "source": [
    "lst[[1]]"
   ]
  },
  {
   "cell_type": "code",
   "execution_count": 5,
   "id": "b9ad97fc-779b-4f65-832c-2319e5ffe5df",
   "metadata": {
    "id": "b9ad97fc-779b-4f65-832c-2319e5ffe5df",
    "outputId": "032f8dc5-d458-4c36-9fb7-163749c4c90d"
   },
   "outputs": [
    {
     "data": {
      "text/plain": [
       "[1] \"A\" \"B\" \"C\""
      ]
     },
     "metadata": {},
     "output_type": "display_data"
    }
   ],
   "source": [
    "lst[[2]]"
   ]
  },
  {
   "cell_type": "code",
   "execution_count": 6,
   "id": "c4bc8d1c-3193-4fe0-8970-c3c93fb2097a",
   "metadata": {
    "id": "c4bc8d1c-3193-4fe0-8970-c3c93fb2097a",
    "outputId": "75bbd4ed-da78-45f8-a6bf-0714078bf10a"
   },
   "outputs": [
    {
     "data": {
      "text/plain": [
       "     [,1] [,2] \n",
       "[1,] TRUE FALSE\n",
       "[2,] TRUE  TRUE"
      ]
     },
     "metadata": {},
     "output_type": "display_data"
    }
   ],
   "source": [
    "lst[[3]]"
   ]
  },
  {
   "cell_type": "code",
   "execution_count": 7,
   "id": "17345e50",
   "metadata": {
    "id": "17345e50",
    "outputId": "da00782e-ed43-47ff-bd97-2d8afaa620ba"
   },
   "outputs": [
    {
     "data": {
      "text/plain": [
       "[1]  8  9 10 11 12 13"
      ]
     },
     "metadata": {},
     "output_type": "display_data"
    }
   ],
   "source": [
    "lst[[1]]+3"
   ]
  },
  {
   "cell_type": "markdown",
   "id": "39fd9533",
   "metadata": {
    "id": "39fd9533"
   },
   "source": [
    "`-` 리스트의 길이 "
   ]
  },
  {
   "cell_type": "code",
   "execution_count": 8,
   "id": "36cf0b09",
   "metadata": {
    "id": "36cf0b09",
    "outputId": "7e0e20f4-5e58-4ed2-d2e9-4f6b93fcbb22"
   },
   "outputs": [
    {
     "data": {
      "text/plain": [
       "[1] 3"
      ]
     },
     "metadata": {},
     "output_type": "display_data"
    }
   ],
   "source": [
    "length(lst)"
   ]
  },
  {
   "cell_type": "markdown",
   "id": "6c68c43d",
   "metadata": {
    "id": "6c68c43d"
   },
   "source": [
    "`-` 왜 리스트를 쓰는가? (1) 함수에서 여러개의 리턴값을 주는 효과 (2) 정리의 효과 \n",
    "- 명확한 이점: 함수의 리턴값을 여러개 \n",
    "- 그외의 이점: 저도 솔직히 잘 모르겠어요. \n",
    "- 벡터, 매트릭스, 데이터프레임와 같이 기능상의 이점이 있는것 같진 않아요. \n",
    "- 그런데 자료를 저장하고 정리하기에 좋아요 (제가 정리하는걸 좋아하는것 같아요) "
   ]
  },
  {
   "cell_type": "markdown",
   "id": "0ac508b1",
   "metadata": {
    "id": "0ac508b1"
   },
   "source": [
    "#### 예제2"
   ]
  },
  {
   "cell_type": "code",
   "execution_count": 9,
   "id": "c1e5ec30",
   "metadata": {
    "id": "c1e5ec30",
    "outputId": "073900e1-37ed-4d1a-94f3-f0336b20bd6c"
   },
   "outputs": [
    {
     "data": {
      "text/plain": [
       "[[1]]\n",
       "[1] \"hynn\" \"iu\"   \"gd\"  \n",
       "\n",
       "[[2]]\n",
       "[1] 100  95 100\n"
      ]
     },
     "metadata": {},
     "output_type": "display_data"
    }
   ],
   "source": [
    "mid = list(c('hynn','iu','gd'),c(100,95,100))\n",
    "mid"
   ]
  },
  {
   "cell_type": "code",
   "execution_count": 10,
   "id": "f93d4b56",
   "metadata": {
    "id": "f93d4b56",
    "outputId": "ae5f4c5b-d8ae-4592-817c-312cf1d2886a"
   },
   "outputs": [
    {
     "data": {
      "text/plain": [
       "NULL"
      ]
     },
     "metadata": {},
     "output_type": "display_data"
    }
   ],
   "source": [
    "names(mid)"
   ]
  },
  {
   "cell_type": "code",
   "execution_count": 11,
   "id": "7c08bcd5",
   "metadata": {
    "id": "7c08bcd5"
   },
   "outputs": [],
   "source": [
    "names(mid)<-c('names','score')"
   ]
  },
  {
   "cell_type": "code",
   "execution_count": 12,
   "id": "a275f076",
   "metadata": {
    "id": "a275f076",
    "outputId": "c42ca21a-8125-480b-bdcf-50363dcaed21"
   },
   "outputs": [
    {
     "data": {
      "text/plain": [
       "$names\n",
       "[1] \"hynn\" \"iu\"   \"gd\"  \n",
       "\n",
       "$score\n",
       "[1] 100  95 100\n"
      ]
     },
     "metadata": {},
     "output_type": "display_data"
    }
   ],
   "source": [
    "mid"
   ]
  },
  {
   "cell_type": "markdown",
   "id": "72680417",
   "metadata": {
    "id": "72680417"
   },
   "source": [
    "`-` 보기에 깔끔하다. "
   ]
  },
  {
   "cell_type": "markdown",
   "id": "96917780",
   "metadata": {
    "id": "96917780"
   },
   "source": [
    "`-` 데이터에 접근하기도 좋다."
   ]
  },
  {
   "cell_type": "code",
   "execution_count": 13,
   "id": "11660ae7",
   "metadata": {
    "id": "11660ae7",
    "outputId": "665d1e70-874d-451d-b6c7-b0c7dbb0a69a"
   },
   "outputs": [
    {
     "data": {
      "text/plain": [
       "[1] \"hynn\" \"iu\"   \"gd\"  "
      ]
     },
     "metadata": {},
     "output_type": "display_data"
    }
   ],
   "source": [
    "mid$names"
   ]
  },
  {
   "cell_type": "code",
   "execution_count": 14,
   "id": "75db1dad",
   "metadata": {
    "id": "75db1dad",
    "outputId": "7026dd9a-3190-4289-d6cb-96287306dc43"
   },
   "outputs": [
    {
     "data": {
      "text/plain": [
       "[1] 100  95 100"
      ]
     },
     "metadata": {},
     "output_type": "display_data"
    }
   ],
   "source": [
    "mid$score"
   ]
  },
  {
   "cell_type": "markdown",
   "id": "c1bcc2e2",
   "metadata": {
    "id": "c1bcc2e2"
   },
   "source": [
    "`-` 물론 아래와 같이 접근할수도 있다. "
   ]
  },
  {
   "cell_type": "code",
   "execution_count": 15,
   "id": "525b917b",
   "metadata": {
    "id": "525b917b",
    "outputId": "d15e1183-798a-425b-f44b-a4dffc49da78"
   },
   "outputs": [
    {
     "data": {
      "text/plain": [
       "[1] \"hynn\" \"iu\"   \"gd\"  "
      ]
     },
     "metadata": {},
     "output_type": "display_data"
    }
   ],
   "source": [
    "mid[[1]]"
   ]
  },
  {
   "cell_type": "code",
   "execution_count": 16,
   "id": "766f3566",
   "metadata": {
    "id": "766f3566",
    "outputId": "4b328247-6b84-4edd-ecb5-3d5f1c248c0e"
   },
   "outputs": [
    {
     "data": {
      "text/plain": [
       "[1] 100  95 100"
      ]
     },
     "metadata": {},
     "output_type": "display_data"
    }
   ],
   "source": [
    "mid[[2]]"
   ]
  },
  {
   "cell_type": "markdown",
   "id": "10398e32-624c-4c83-a96f-f53009d52f90",
   "metadata": {
    "id": "10398e32-624c-4c83-a96f-f53009d52f90"
   },
   "source": [
    "`-` 리스트를 복사후 재생성하기에 좋음 "
   ]
  },
  {
   "cell_type": "code",
   "execution_count": 17,
   "id": "4936fba8-6359-45c0-8d7d-cc31004b1f83",
   "metadata": {
    "id": "4936fba8-6359-45c0-8d7d-cc31004b1f83",
    "outputId": "796be8c1-1e83-4720-cecb-058038c7345b"
   },
   "outputs": [
    {
     "data": {
      "text/plain": [
       "$names\n",
       "[1] \"hynn\" \"iu\"   \"gd\"  \n",
       "\n",
       "$score\n",
       "[1] 100  95 100\n"
      ]
     },
     "metadata": {},
     "output_type": "display_data"
    }
   ],
   "source": [
    "mid"
   ]
  },
  {
   "cell_type": "code",
   "execution_count": 18,
   "id": "8de6d41b-54da-4c02-bbc7-3af2db65681c",
   "metadata": {
    "id": "8de6d41b-54da-4c02-bbc7-3af2db65681c"
   },
   "outputs": [],
   "source": [
    "final = mid "
   ]
  },
  {
   "cell_type": "code",
   "execution_count": 19,
   "id": "d8c52821-3a8d-4d0c-b6b3-a8c8245617ee",
   "metadata": {
    "id": "d8c52821-3a8d-4d0c-b6b3-a8c8245617ee",
    "outputId": "b6c95f57-08a5-41b0-db8c-ca39fe2b620a"
   },
   "outputs": [
    {
     "data": {
      "text/plain": [
       "$names\n",
       "[1] \"hynn\" \"iu\"   \"gd\"  \n",
       "\n",
       "$score\n",
       "[1] 100  95 100\n"
      ]
     },
     "metadata": {},
     "output_type": "display_data"
    }
   ],
   "source": [
    "final"
   ]
  },
  {
   "cell_type": "code",
   "execution_count": 20,
   "id": "1509f293-35fb-4d8f-8974-5a3fe459ed34",
   "metadata": {
    "id": "1509f293-35fb-4d8f-8974-5a3fe459ed34"
   },
   "outputs": [],
   "source": [
    "final$score = mid$score - 10 "
   ]
  },
  {
   "cell_type": "code",
   "execution_count": 21,
   "id": "8b7e469b-aae2-42cd-8997-43d525cb9bef",
   "metadata": {
    "id": "8b7e469b-aae2-42cd-8997-43d525cb9bef",
    "outputId": "2957cec4-5a28-4cc7-8c8d-fb3fb785fa99"
   },
   "outputs": [
    {
     "data": {
      "text/plain": [
       "[1] 90 85 90"
      ]
     },
     "metadata": {},
     "output_type": "display_data"
    }
   ],
   "source": [
    "final$score"
   ]
  },
  {
   "cell_type": "code",
   "execution_count": 22,
   "id": "85a0345a-415e-4561-8cb0-1b36f0c10b96",
   "metadata": {
    "id": "85a0345a-415e-4561-8cb0-1b36f0c10b96",
    "outputId": "17d363fa-36b0-4f36-ac33-5fa346c88657"
   },
   "outputs": [
    {
     "data": {
      "text/plain": [
       "$names\n",
       "[1] \"hynn\" \"iu\"   \"gd\"  \n",
       "\n",
       "$score\n",
       "[1] 90 85 90\n"
      ]
     },
     "metadata": {},
     "output_type": "display_data"
    }
   ],
   "source": [
    "final"
   ]
  },
  {
   "cell_type": "markdown",
   "id": "7cd97bc1-bca2-4209-8108-ce2a510b4bc3",
   "metadata": {
    "id": "7cd97bc1-bca2-4209-8108-ce2a510b4bc3"
   },
   "source": [
    "`-` 리스트를 묶어서 새로운 리스트를 또 만들 수도 있음 "
   ]
  },
  {
   "cell_type": "code",
   "execution_count": 23,
   "id": "07f775c3-5881-45ed-9636-db83d8e5ef48",
   "metadata": {
    "id": "07f775c3-5881-45ed-9636-db83d8e5ef48"
   },
   "outputs": [],
   "source": [
    "IR2021 <- list(mid,final) "
   ]
  },
  {
   "cell_type": "code",
   "execution_count": 24,
   "id": "f31768b9-3d6c-4cba-8ddb-17ba87e2967e",
   "metadata": {
    "id": "f31768b9-3d6c-4cba-8ddb-17ba87e2967e",
    "outputId": "58ac39c8-f612-4298-94f2-5015faedeb39"
   },
   "outputs": [
    {
     "data": {
      "text/plain": [
       "[[1]]\n",
       "[[1]]$names\n",
       "[1] \"hynn\" \"iu\"   \"gd\"  \n",
       "\n",
       "[[1]]$score\n",
       "[1] 100  95 100\n",
       "\n",
       "\n",
       "[[2]]\n",
       "[[2]]$names\n",
       "[1] \"hynn\" \"iu\"   \"gd\"  \n",
       "\n",
       "[[2]]$score\n",
       "[1] 90 85 90\n",
       "\n"
      ]
     },
     "metadata": {},
     "output_type": "display_data"
    }
   ],
   "source": [
    "IR2021"
   ]
  },
  {
   "cell_type": "markdown",
   "id": "57d054ed-ec9e-48c3-aa06-ea8bad636978",
   "metadata": {
    "id": "57d054ed-ec9e-48c3-aa06-ea8bad636978"
   },
   "source": [
    "`-` 리스트원소에 이름을 붙여주면 "
   ]
  },
  {
   "cell_type": "code",
   "execution_count": 25,
   "id": "b2469d5e-ba5c-464a-af4d-6b62e341ce2e",
   "metadata": {
    "id": "b2469d5e-ba5c-464a-af4d-6b62e341ce2e",
    "outputId": "8a129522-04c5-47b9-f158-65bb54070db8"
   },
   "outputs": [
    {
     "data": {
      "text/plain": [
       "NULL"
      ]
     },
     "metadata": {},
     "output_type": "display_data"
    }
   ],
   "source": [
    "names(IR2021)"
   ]
  },
  {
   "cell_type": "code",
   "execution_count": 26,
   "id": "4962bd9d-c96e-4869-b2a1-9db398fee67b",
   "metadata": {
    "id": "4962bd9d-c96e-4869-b2a1-9db398fee67b"
   },
   "outputs": [],
   "source": [
    "names(IR2021) <- c(\"mid\",\"final\")"
   ]
  },
  {
   "cell_type": "code",
   "execution_count": 27,
   "id": "c569c140-8529-4c49-87eb-f0c02bd49187",
   "metadata": {
    "id": "c569c140-8529-4c49-87eb-f0c02bd49187",
    "outputId": "313067d4-0c9c-40ca-fb7b-696193d2894d"
   },
   "outputs": [
    {
     "data": {
      "text/plain": [
       "$mid\n",
       "$mid$names\n",
       "[1] \"hynn\" \"iu\"   \"gd\"  \n",
       "\n",
       "$mid$score\n",
       "[1] 100  95 100\n",
       "\n",
       "\n",
       "$final\n",
       "$final$names\n",
       "[1] \"hynn\" \"iu\"   \"gd\"  \n",
       "\n",
       "$final$score\n",
       "[1] 90 85 90\n",
       "\n"
      ]
     },
     "metadata": {},
     "output_type": "display_data"
    }
   ],
   "source": [
    "IR2021"
   ]
  },
  {
   "cell_type": "code",
   "execution_count": 28,
   "id": "142b29e8-c823-4a04-9ba9-753f846256ec",
   "metadata": {
    "id": "142b29e8-c823-4a04-9ba9-753f846256ec",
    "outputId": "cff6ec5b-e6b6-48bd-fbb6-c225eacbdbc2"
   },
   "outputs": [
    {
     "data": {
      "text/plain": [
       "[1] 90 85 90"
      ]
     },
     "metadata": {},
     "output_type": "display_data"
    }
   ],
   "source": [
    "IR2021$final$score"
   ]
  },
  {
   "cell_type": "markdown",
   "id": "d8af918e-39cf-4e37-bf82-37c238955925",
   "metadata": {
    "id": "d8af918e-39cf-4e37-bf82-37c238955925"
   },
   "source": [
    "`-` 아래와 같이 선언하는 것도 깔끔해보인다. "
   ]
  },
  {
   "cell_type": "code",
   "execution_count": 29,
   "id": "13bf9a35-f793-4155-b21c-62d895c18b15",
   "metadata": {
    "id": "13bf9a35-f793-4155-b21c-62d895c18b15",
    "outputId": "7c14ac02-f20c-461a-b049-bbac62ed4b13"
   },
   "outputs": [
    {
     "data": {
      "text/plain": [
       "$names\n",
       "[1] \"hynn\" \"iu\"   \"gd\"  \n",
       "\n",
       "$mid\n",
       "[1] 100  95 100\n",
       "\n",
       "$final\n",
       "[1] 90 85 90\n"
      ]
     },
     "metadata": {},
     "output_type": "display_data"
    }
   ],
   "source": [
    "IR2021 = list(names=mid$names, mid=mid$score, final=final$score) # 리스트의 구성요소와 이름을 동시에 선언 \n",
    "IR2021"
   ]
  },
  {
   "cell_type": "markdown",
   "id": "8ba75be9-a330-446a-b6bc-ad245d661604",
   "metadata": {
    "id": "8ba75be9-a330-446a-b6bc-ad245d661604"
   },
   "source": [
    "### 리스트의 서브셋팅 "
   ]
  },
  {
   "cell_type": "code",
   "execution_count": 30,
   "id": "8ad098ce-2279-4410-bdc4-79266e2f8b28",
   "metadata": {
    "id": "8ad098ce-2279-4410-bdc4-79266e2f8b28",
    "outputId": "83548e5a-b752-41a1-a3ec-1c5e01c0dba2"
   },
   "outputs": [
    {
     "data": {
      "text/plain": [
       "$names\n",
       "[1] \"hynn\" \"iu\"   \"gd\"  \n",
       "\n",
       "$mid\n",
       "[1] 100  95 100\n",
       "\n",
       "$final\n",
       "[1] 90 85 90\n"
      ]
     },
     "metadata": {},
     "output_type": "display_data"
    }
   ],
   "source": [
    "IR2021"
   ]
  },
  {
   "cell_type": "markdown",
   "id": "6bee7b9d-be40-40eb-9136-0ea926e94e04",
   "metadata": {
    "id": "6bee7b9d-be40-40eb-9136-0ea926e94e04"
   },
   "source": [
    "#### `[`연산자: 리스트를 리턴 "
   ]
  },
  {
   "cell_type": "code",
   "execution_count": 31,
   "id": "d4eee280-b864-4468-bde4-080e6239605a",
   "metadata": {
    "id": "d4eee280-b864-4468-bde4-080e6239605a",
    "outputId": "5dd5fc5e-b146-4a88-c22b-7da54c4a2ca8"
   },
   "outputs": [
    {
     "data": {
      "text/plain": [
       "$names\n",
       "[1] \"hynn\" \"iu\"   \"gd\"  \n"
      ]
     },
     "metadata": {},
     "output_type": "display_data"
    }
   ],
   "source": [
    "IR2021[1]"
   ]
  },
  {
   "cell_type": "code",
   "execution_count": 32,
   "id": "414ea875-e41e-42db-9e5d-6b796b239759",
   "metadata": {
    "id": "414ea875-e41e-42db-9e5d-6b796b239759",
    "outputId": "94fcf119-aa73-481e-b662-3557c78fc7fe"
   },
   "outputs": [
    {
     "data": {
      "text/plain": [
       "$names\n",
       "[1] \"hynn\" \"iu\"   \"gd\"  \n",
       "\n",
       "$mid\n",
       "[1] 100  95 100\n"
      ]
     },
     "metadata": {},
     "output_type": "display_data"
    }
   ],
   "source": [
    "IR2021[1:2]"
   ]
  },
  {
   "cell_type": "code",
   "execution_count": 33,
   "id": "50c1fd7e-c847-4f1c-b943-082558b53508",
   "metadata": {
    "id": "50c1fd7e-c847-4f1c-b943-082558b53508",
    "outputId": "f91c785c-81d1-4dc1-a71b-600eaef1d1d9"
   },
   "outputs": [
    {
     "data": {
      "text/plain": [
       "$names\n",
       "[1] \"hynn\" \"iu\"   \"gd\"  \n",
       "\n",
       "$final\n",
       "[1] 90 85 90\n"
      ]
     },
     "metadata": {},
     "output_type": "display_data"
    }
   ],
   "source": [
    "IR2021[c(1,3)]"
   ]
  },
  {
   "cell_type": "code",
   "execution_count": 34,
   "id": "2aa05d83-8dab-43d9-b552-e8b45021eeb1",
   "metadata": {
    "id": "2aa05d83-8dab-43d9-b552-e8b45021eeb1",
    "outputId": "0b0cd0d9-421a-4dbd-d944-f8b1d940d9f6"
   },
   "outputs": [
    {
     "data": {
      "text/plain": [
       "$names\n",
       "[1] \"hynn\" \"iu\"   \"gd\"  \n",
       "\n",
       "$final\n",
       "[1] 90 85 90\n"
      ]
     },
     "metadata": {},
     "output_type": "display_data"
    }
   ],
   "source": [
    "IR2021[-2] "
   ]
  },
  {
   "cell_type": "markdown",
   "id": "5604e32e-af0b-4328-82f7-64459985d2c8",
   "metadata": {
    "id": "5604e32e-af0b-4328-82f7-64459985d2c8"
   },
   "source": [
    "#### `[[` 연산자: 리스트의 요소를 추출함 "
   ]
  },
  {
   "cell_type": "code",
   "execution_count": 35,
   "id": "bc7706fd-e137-43f6-8b33-ea9d391fab3d",
   "metadata": {
    "id": "bc7706fd-e137-43f6-8b33-ea9d391fab3d",
    "outputId": "5ae11ce8-6338-4448-ad5d-d9bcccbbf0cf"
   },
   "outputs": [
    {
     "data": {
      "text/plain": [
       "[1] \"hynn\" \"iu\"   \"gd\"  "
      ]
     },
     "metadata": {},
     "output_type": "display_data"
    }
   ],
   "source": [
    "IR2021[[1]]"
   ]
  },
  {
   "cell_type": "code",
   "execution_count": 36,
   "id": "59fde75d-8971-498c-890f-3a0e29ea7200",
   "metadata": {
    "id": "59fde75d-8971-498c-890f-3a0e29ea7200",
    "outputId": "0c52edfb-02a5-4bb8-d9e4-6ef1604e407c"
   },
   "outputs": [
    {
     "data": {
      "text/plain": [
       "[1] 100  95 100"
      ]
     },
     "metadata": {},
     "output_type": "display_data"
    }
   ],
   "source": [
    "IR2021[[2]]"
   ]
  },
  {
   "cell_type": "markdown",
   "id": "3a0dc2db-1e6b-4d99-9353-3165e336d911",
   "metadata": {
    "id": "3a0dc2db-1e6b-4d99-9353-3165e336d911"
   },
   "source": [
    "`-` 아래는 동작하지 않음 "
   ]
  },
  {
   "cell_type": "code",
   "execution_count": 37,
   "id": "282c6abb-2a2b-4810-b36d-25941d67a3dc",
   "metadata": {
    "id": "282c6abb-2a2b-4810-b36d-25941d67a3dc",
    "outputId": "22221879-10d7-4832-b125-4aa19224a876"
   },
   "outputs": [
    {
     "ename": "ERROR",
     "evalue": "Error in IR2021[[-1]]: invalid negative subscript in get1index <real>\n",
     "output_type": "error",
     "traceback": [
      "Error in IR2021[[-1]]: invalid negative subscript in get1index <real>\nTraceback:\n"
     ]
    }
   ],
   "source": [
    "IR2021[[-1]]"
   ]
  },
  {
   "cell_type": "markdown",
   "id": "370e27d9-8252-4cfc-96d0-9480e4d70ee7",
   "metadata": {
    "id": "370e27d9-8252-4cfc-96d0-9480e4d70ee7"
   },
   "source": [
    "`-` 아래는 의도와 다르게 동작함 "
   ]
  },
  {
   "cell_type": "code",
   "execution_count": null,
   "id": "1902200f-e964-48fb-a1ad-fc74306679cf",
   "metadata": {
    "id": "1902200f-e964-48fb-a1ad-fc74306679cf",
    "outputId": "cac12669-5a66-47dc-a805-1bb7d2a8a0ac"
   },
   "outputs": [],
   "source": [
    "IR2021[[1:2]]"
   ]
  },
  {
   "cell_type": "code",
   "execution_count": null,
   "id": "46e6faad-2335-4478-b1c3-445122672b39",
   "metadata": {
    "id": "46e6faad-2335-4478-b1c3-445122672b39",
    "outputId": "f9c266d8-83af-4a27-b363-c733a0f3f92e"
   },
   "outputs": [],
   "source": [
    "IR2021[[c(1,2)]]"
   ]
  },
  {
   "cell_type": "markdown",
   "id": "1998bb1e-7278-4344-93a7-147b584f8740",
   "metadata": {
    "id": "1998bb1e-7278-4344-93a7-147b584f8740"
   },
   "source": [
    "- IR2021[[1]][2]와 결과가 같음 "
   ]
  },
  {
   "cell_type": "code",
   "execution_count": null,
   "id": "0de0f629-ae22-4882-939d-891b3fe39db1",
   "metadata": {
    "id": "0de0f629-ae22-4882-939d-891b3fe39db1",
    "outputId": "0f3354bf-c5ad-4ab2-fe09-fd0b71361512"
   },
   "outputs": [],
   "source": [
    "IR2021[[1:3]]"
   ]
  },
  {
   "cell_type": "code",
   "execution_count": null,
   "id": "2febde7f-cef4-4fd9-b74f-ea5c26d68d0e",
   "metadata": {
    "id": "2febde7f-cef4-4fd9-b74f-ea5c26d68d0e",
    "outputId": "b9de0410-c4a6-460f-d286-f72be3987c4e"
   },
   "outputs": [],
   "source": [
    "IR2021[[c(1,3)]]\n",
    "#IR2021[[1]][3] "
   ]
  },
  {
   "cell_type": "markdown",
   "id": "20d8c2cf-1df5-4aec-8675-afd6cb4bba95",
   "metadata": {
    "id": "20d8c2cf-1df5-4aec-8675-afd6cb4bba95"
   },
   "source": [
    "#### `$`연산자 "
   ]
  },
  {
   "cell_type": "code",
   "execution_count": null,
   "id": "9d56fc4f-f7e3-48ac-8159-7a12c45dabaa",
   "metadata": {
    "id": "9d56fc4f-f7e3-48ac-8159-7a12c45dabaa",
    "outputId": "0a0db7c0-ec8f-4827-afc1-962b628af378"
   },
   "outputs": [],
   "source": [
    "IR2021$names"
   ]
  },
  {
   "cell_type": "markdown",
   "id": "060046b5-766f-4b5c-b47a-c86d4c6412f5",
   "metadata": {
    "id": "060046b5-766f-4b5c-b47a-c86d4c6412f5"
   },
   "source": [
    "#### `[['names']]`와 같은 사용도 가능 "
   ]
  },
  {
   "cell_type": "code",
   "execution_count": null,
   "id": "95d16c6f-d287-4f5c-a1a3-3eec6b1b4185",
   "metadata": {
    "id": "95d16c6f-d287-4f5c-a1a3-3eec6b1b4185",
    "outputId": "066f4cca-47c4-4139-b685-6781fedad344"
   },
   "outputs": [],
   "source": [
    "IR2021[['names']]"
   ]
  },
  {
   "cell_type": "markdown",
   "id": "77a1d5dd-66b3-4690-bba9-63a92aa10439",
   "metadata": {
    "id": "77a1d5dd-66b3-4690-bba9-63a92aa10439"
   },
   "source": [
    "`-` 언뜻 생각하면 `IR2021$names` 와 `IR2021[['names']]` 의 기능은 같으므로 이 경우에는 `$`와 `[[`를 서로 바꿔도 될것 같다. 하지만 항상 그런 것은 아니다. "
   ]
  },
  {
   "cell_type": "code",
   "execution_count": null,
   "id": "15111e8f-abc2-4c5b-ab38-a699722453e5",
   "metadata": {
    "id": "15111e8f-abc2-4c5b-ab38-a699722453e5",
    "outputId": "cabdce01-83cf-48d2-a796-48dbf7968bd4"
   },
   "outputs": [],
   "source": [
    "IR2021$n"
   ]
  },
  {
   "cell_type": "code",
   "execution_count": null,
   "id": "d6dbbc82-ecf7-42cf-90ec-ba5e1cfdecde",
   "metadata": {
    "id": "d6dbbc82-ecf7-42cf-90ec-ba5e1cfdecde",
    "outputId": "d5291948-cc8f-48f1-eb9a-8450f1ad98ce"
   },
   "outputs": [],
   "source": [
    "IR2021[['n']]"
   ]
  },
  {
   "cell_type": "markdown",
   "id": "714a24b5-e4ba-4cdb-9339-8dd7fbcfc16b",
   "metadata": {
    "id": "714a24b5-e4ba-4cdb-9339-8dd7fbcfc16b"
   },
   "source": [
    "`-` 즉 `$`연산자와 `[[`연산자의 차이는 파샬매칭(partial matching)을 허용하느냐 하지않느냐의 차이다. "
   ]
  },
  {
   "cell_type": "code",
   "execution_count": null,
   "id": "9ccdd40f-66b2-410e-91ca-0392d9875f21",
   "metadata": {
    "id": "9ccdd40f-66b2-410e-91ca-0392d9875f21",
    "outputId": "03f5468d-4fd1-44d1-81b7-2bf6aef34231"
   },
   "outputs": [],
   "source": [
    "IR2021$n"
   ]
  },
  {
   "cell_type": "code",
   "execution_count": null,
   "id": "54f6c39c-b2ed-4fa2-9149-badb07e03cf4",
   "metadata": {
    "id": "54f6c39c-b2ed-4fa2-9149-badb07e03cf4",
    "outputId": "3cccd835-7682-4c6c-8c9f-c675ac444b82"
   },
   "outputs": [],
   "source": [
    "IR2021$na"
   ]
  },
  {
   "cell_type": "code",
   "execution_count": null,
   "id": "8d714f46-2479-48a5-886a-df1c1111e63b",
   "metadata": {
    "id": "8d714f46-2479-48a5-886a-df1c1111e63b",
    "outputId": "48e43bc4-0886-4658-a427-977cc51a4dde"
   },
   "outputs": [],
   "source": [
    "IR2021$name"
   ]
  },
  {
   "cell_type": "markdown",
   "id": "d67cb5e9-1f4e-4423-8ce8-5e444a1a27df",
   "metadata": {
    "id": "d67cb5e9-1f4e-4423-8ce8-5e444a1a27df"
   },
   "source": [
    "- 특히 마지막 IR2021$name은 마치 오타를 허용해주는 느낌이다. "
   ]
  },
  {
   "cell_type": "markdown",
   "id": "8d15d82b-b7c8-4507-bb65-294c5f8e582b",
   "metadata": {
    "id": "8d15d82b-b7c8-4507-bb65-294c5f8e582b"
   },
   "source": [
    "`-` 그런데 아래는 동작하지 않음\n"
   ]
  },
  {
   "cell_type": "code",
   "execution_count": null,
   "id": "71fc04f7-c0c2-4b07-b8d5-4586e07bd86b",
   "metadata": {
    "id": "71fc04f7-c0c2-4b07-b8d5-4586e07bd86b",
    "outputId": "cb647a32-73a4-4a54-f01a-12bfbe39814e"
   },
   "outputs": [],
   "source": [
    "IR2021$ames"
   ]
  },
  {
   "cell_type": "code",
   "execution_count": null,
   "id": "27738d4f-889b-44ab-a293-ad94aeaab9ff",
   "metadata": {
    "id": "27738d4f-889b-44ab-a293-ad94aeaab9ff",
    "outputId": "363e0e6c-ded8-4bd0-fbd5-ccb96e805c84"
   },
   "outputs": [],
   "source": [
    "IR2021$es "
   ]
  },
  {
   "cell_type": "markdown",
   "id": "ea364a5b-51ea-48be-a6cb-21647299ee3e",
   "metadata": {
    "id": "ea364a5b-51ea-48be-a6cb-21647299ee3e"
   },
   "source": [
    "### 리스트의 응용: 함수의  return으로 사용 "
   ]
  },
  {
   "cell_type": "markdown",
   "id": "f60361f5-98f0-43fd-b45f-7d7c36134f48",
   "metadata": {
    "id": "f60361f5-98f0-43fd-b45f-7d7c36134f48"
   },
   "source": [
    "`-` R에서는 일반적으로 하나의 오브젝트만 리턴함 "
   ]
  },
  {
   "cell_type": "markdown",
   "id": "327395e4-8e8d-4d18-89f6-9a90dd2f4a0b",
   "metadata": {
    "id": "327395e4-8e8d-4d18-89f6-9a90dd2f4a0b"
   },
   "source": [
    "`-` 하지만 리스트를 사용하면 다중리턴을 지원하는 것처럼 느낄 수 있음."
   ]
  },
  {
   "cell_type": "code",
   "execution_count": null,
   "id": "89e1ef86-5575-4b30-ba97-239c3dde9191",
   "metadata": {
    "id": "89e1ef86-5575-4b30-ba97-239c3dde9191"
   },
   "outputs": [],
   "source": [
    "cal= function(x,y){\n",
    "    return(list(add=x+y, sub=x-y, mul=x*y, dic=x/y))\n",
    "} "
   ]
  },
  {
   "cell_type": "code",
   "execution_count": null,
   "id": "7d46d660-e1c6-4a16-888d-a40cce550d7f",
   "metadata": {
    "id": "7d46d660-e1c6-4a16-888d-a40cce550d7f",
    "outputId": "6b991754-b0ab-42e8-9378-6332b5dd48c0"
   },
   "outputs": [],
   "source": [
    "cal(2,3)"
   ]
  },
  {
   "cell_type": "markdown",
   "id": "81073d8f-3c73-4576-a340-c9171b7f5f04",
   "metadata": {
    "id": "81073d8f-3c73-4576-a340-c9171b7f5f04"
   },
   "source": [
    "`-` 이런일이 있으면 그냥 cal_add, cal_mul, cal_sub, cal_div 처럼 함수를 4개 구현하면 되는것이 아닌가? $\\to$ 물론 그래도 가능하지만 코드가 지저분해 지니까"
   ]
  },
  {
   "cell_type": "markdown",
   "id": "8f2d4781-401b-4970-84ca-71d2428e2732",
   "metadata": {
    "id": "8f2d4781-401b-4970-84ca-71d2428e2732"
   },
   "source": [
    "`-` 함수의 결과값을 저장하여 아래와 같이 사용 "
   ]
  },
  {
   "cell_type": "code",
   "execution_count": null,
   "id": "fae56c10-3070-4bf1-a938-4b675c44903e",
   "metadata": {
    "id": "fae56c10-3070-4bf1-a938-4b675c44903e"
   },
   "outputs": [],
   "source": [
    "rslt = cal(4,3)"
   ]
  },
  {
   "cell_type": "code",
   "execution_count": null,
   "id": "30430d46-ad8c-4c1f-a703-3a2f1be1e9c4",
   "metadata": {
    "id": "30430d46-ad8c-4c1f-a703-3a2f1be1e9c4",
    "outputId": "45032d05-a2d6-499a-8dc4-ce11e41fe0df"
   },
   "outputs": [],
   "source": [
    "rslt$add "
   ]
  },
  {
   "cell_type": "code",
   "execution_count": null,
   "id": "d10780b7-04ed-41fc-a065-e9ef78671277",
   "metadata": {
    "id": "d10780b7-04ed-41fc-a065-e9ef78671277",
    "outputId": "3a1ed634-e4f8-433d-eeb5-1964aaab6b0f"
   },
   "outputs": [],
   "source": [
    "rslt$sub"
   ]
  },
  {
   "cell_type": "markdown",
   "id": "41b53303-3217-4040-a1fb-6f194b6bf2fd",
   "metadata": {
    "id": "41b53303-3217-4040-a1fb-6f194b6bf2fd"
   },
   "source": [
    "`-` 아래와 같이 쓰지는 않음 "
   ]
  },
  {
   "cell_type": "code",
   "execution_count": null,
   "id": "af75d407-7e1b-4c17-8fdb-c7a012912123",
   "metadata": {
    "id": "af75d407-7e1b-4c17-8fdb-c7a012912123",
    "outputId": "84ddb2a5-b61a-4da2-a100-572596eb29bc"
   },
   "outputs": [],
   "source": [
    "cal(4,3)$add "
   ]
  },
  {
   "cell_type": "code",
   "execution_count": null,
   "id": "7fc3b23d-ead3-4bdb-89fc-e3a156cfc178",
   "metadata": {
    "id": "7fc3b23d-ead3-4bdb-89fc-e3a156cfc178",
    "outputId": "39035cf1-497d-4f52-a2fa-4d23349937a9"
   },
   "outputs": [],
   "source": [
    "cal(4,3)$sub "
   ]
  },
  {
   "cell_type": "markdown",
   "id": "fb509320-e3c1-486a-9ae8-d3d40b612f99",
   "metadata": {
    "id": "fb509320-e3c1-486a-9ae8-d3d40b612f99"
   },
   "source": [
    "### 숙제 "
   ]
  },
  {
   "cell_type": "markdown",
   "id": "779acfb2-c727-492a-8fe7-143580acd8f3",
   "metadata": {
    "id": "779acfb2-c727-492a-8fe7-143580acd8f3"
   },
   "source": [
    "`-` 기본적인 자료형 vector, matrix, list에 기능을 스스로 정리해보고 요약해볼것 (제출의무 없음) \n",
    "- 벡터의 길이를 재려면 어떻게 해야하는지? \n",
    "- 매트릭스의 차원은 어떻게 알 수 있는지? \n",
    "- 리스트의 원소에 접근하려면? \n",
    "- $n\\times 1$ 매트릭스 혹은 $1\\times n$ 매트릭스를 쓰면 되는데 왜 굳이 벡터를 만들었을까? "
   ]
  },
  {
   "cell_type": "markdown",
   "id": "5183e403-a3f6-494c-8491-9071081b9aa2",
   "metadata": {
    "id": "5183e403-a3f6-494c-8491-9071081b9aa2"
   },
   "source": [
    "`-` 벡터 ${\\bf x}$와 벡터 ${\\bf y}$를 아래의 코드를 이용해 표준 정규분포에서 생성하라. (표준정규분포를 모른다면 질문하거나 네이버 구글에서 스스로 찾아볼것) \n",
    "```r\n",
    "x=rnorm(100)\n",
    "y=rnorm(100)\n",
    "```\n",
    "아래의 수식을 계산하는 코드를 작성하라. "
   ]
  },
  {
   "cell_type": "markdown",
   "id": "1f33fe04-c862-4fa2-9684-cc67440ad7b1",
   "metadata": {
    "id": "1f33fe04-c862-4fa2-9684-cc67440ad7b1"
   },
   "source": [
    "$$\\frac{\\sum_{i=1}^{100}(x_i-\\bar{x})(y_i-\\bar{y})}{\\sqrt{\\sum_{i=1}^{100}(x_i-\\bar{x})^2}\\sqrt{\\sum_{i=1}^{100}(y_i-\\bar{y})^2}}$$"
   ]
  },
  {
   "cell_type": "markdown",
   "id": "26769f2d-fc94-451e-ac84-f06e8269ba43",
   "metadata": {
    "id": "26769f2d-fc94-451e-ac84-f06e8269ba43"
   },
   "source": [
    "단 $\\bar{x}=\\frac{1}{100}\\sum_{i=1}^{100}x_i$로 정의한다. "
   ]
  },
  {
   "cell_type": "code",
   "execution_count": 45,
   "id": "4e16c548-332d-4498-86ee-330b987d8282",
   "metadata": {
    "id": "4e16c548-332d-4498-86ee-330b987d8282"
   },
   "outputs": [],
   "source": [
    "x=rnorm(100)\n",
    "y=rnorm(100)"
   ]
  },
  {
   "cell_type": "code",
   "execution_count": 52,
   "id": "77a1977d-b55f-4d87-a782-acac83818f9e",
   "metadata": {},
   "outputs": [
    {
     "data": {
      "text/plain": [
       "[1] 6.206896"
      ]
     },
     "metadata": {},
     "output_type": "display_data"
    }
   ],
   "source": [
    "num <- sum((x-mean(x))*(y-mean(y)))\n",
    "num"
   ]
  },
  {
   "cell_type": "code",
   "execution_count": 53,
   "id": "3f1e94d9-309d-4be7-9378-3f9d190aba5e",
   "metadata": {},
   "outputs": [
    {
     "data": {
      "text/plain": [
       "[1] 122.7962"
      ]
     },
     "metadata": {},
     "output_type": "display_data"
    }
   ],
   "source": [
    "den <- sqrt(sum((x-mean(x))^2))*sqrt(sum((y-mean(y))^2))\n",
    "den"
   ]
  },
  {
   "cell_type": "code",
   "execution_count": 49,
   "id": "a81ca6d0-12bb-4af2-9353-14d96f05d3f6",
   "metadata": {},
   "outputs": [
    {
     "data": {
      "text/plain": [
       "[1] 0.05054633"
      ]
     },
     "metadata": {},
     "output_type": "display_data"
    }
   ],
   "source": [
    "normal <- num/den\n",
    "normal"
   ]
  },
  {
   "cell_type": "markdown",
   "id": "22096a5d-1567-49ff-95d9-771e5d1a3c15",
   "metadata": {
    "id": "22096a5d-1567-49ff-95d9-771e5d1a3c15"
   },
   "source": [
    "---"
   ]
  },
  {
   "cell_type": "markdown",
   "id": "ee0ecf48-d719-4c7d-b8a7-e14a6f7109e4",
   "metadata": {
    "id": "ee0ecf48-d719-4c7d-b8a7-e14a6f7109e4"
   },
   "source": [
    "보충학습"
   ]
  },
  {
   "cell_type": "code",
   "execution_count": null,
   "id": "a062e8b7-1be3-4f7d-9dd8-fed090d13fc2",
   "metadata": {
    "id": "a062e8b7-1be3-4f7d-9dd8-fed090d13fc2",
    "outputId": "b3620d9f-8444-4d81-e148-2b9eb09adbe8"
   },
   "outputs": [],
   "source": [
    "x"
   ]
  },
  {
   "cell_type": "markdown",
   "id": "3b43daf4-38aa-4595-ac7f-0f0ad822f15b",
   "metadata": {
    "id": "3b43daf4-38aa-4595-ac7f-0f0ad822f15b"
   },
   "source": [
    "${\\bf x} = (x_1,x_2,\\dots, x_{100})=(-1.34195186 ,-0.85612995,\\dots, -0.87349548)$"
   ]
  },
  {
   "cell_type": "markdown",
   "id": "6a85b08f-650e-4a73-a8c6-346b1594b36d",
   "metadata": {
    "id": "6a85b08f-650e-4a73-a8c6-346b1594b36d"
   },
   "source": [
    "$\\frac{1}{100}\\sum_{i=1}^{100} x_i =\\frac{1}{100}(x_1+x_2+\\dots +x_{100})=\\frac{1}{100}(-1.34195186 + (-0.85612995) + \\dots (-0.87349548))$"
   ]
  },
  {
   "cell_type": "markdown",
   "id": "9fdcb4f7-cb7c-47dc-97d7-900e20d04e62",
   "metadata": {
    "id": "9fdcb4f7-cb7c-47dc-97d7-900e20d04e62"
   },
   "source": [
    "코드상으로는 아래와 같이 계산할 수 있겠음 "
   ]
  },
  {
   "cell_type": "code",
   "execution_count": null,
   "id": "36ca413f-2214-478f-b205-ece7b82d4e9f",
   "metadata": {
    "id": "36ca413f-2214-478f-b205-ece7b82d4e9f",
    "outputId": "752c005d-c3da-4225-bb0b-e119dc07ea6f"
   },
   "outputs": [],
   "source": [
    "sum(x)/100 # xbar "
   ]
  },
  {
   "cell_type": "code",
   "execution_count": null,
   "id": "c9b2cbd8-91f2-4216-bb41-9c605933acef",
   "metadata": {
    "id": "c9b2cbd8-91f2-4216-bb41-9c605933acef",
    "outputId": "78d6c680-5375-4c32-9014-8143a4c2c36a"
   },
   "outputs": [],
   "source": [
    "mean(x)"
   ]
  },
  {
   "cell_type": "markdown",
   "id": "1e4ad516-cd23-4f46-ae31-f92e51c83adf",
   "metadata": {
    "id": "1e4ad516-cd23-4f46-ae31-f92e51c83adf"
   },
   "source": [
    "--- "
   ]
  },
  {
   "cell_type": "markdown",
   "id": "091c12d3-b440-43d9-87d7-1fc6f6ce0e44",
   "metadata": {
    "id": "091c12d3-b440-43d9-87d7-1fc6f6ce0e44"
   },
   "source": [
    "(풀이) "
   ]
  },
  {
   "cell_type": "markdown",
   "id": "56f6adf2-30a0-4f02-86b0-94d9438b07c1",
   "metadata": {
    "id": "56f6adf2-30a0-4f02-86b0-94d9438b07c1"
   },
   "source": [
    "$$\\frac{\\sum_{i=1}^{100}(x_i-\\bar{x})(y_i-\\bar{y})}{\\sqrt{\\sum_{i=1}^{100}(x_i-\\bar{x})^2}\\sqrt{\\sum_{i=1}^{100}(y_i-\\bar{y})^2}}=\\frac{A}{BC}$$"
   ]
  },
  {
   "cell_type": "code",
   "execution_count": 50,
   "id": "e1db9ae7-db5d-4716-beaf-1d346d3e3a27",
   "metadata": {
    "id": "e1db9ae7-db5d-4716-beaf-1d346d3e3a27",
    "outputId": "46156b94-5221-4781-e743-531109a4ab91"
   },
   "outputs": [
    {
     "data": {
      "text/plain": [
       "[1] 6.206896"
      ]
     },
     "metadata": {},
     "output_type": "display_data"
    }
   ],
   "source": [
    "## A \n",
    "A=0 \n",
    "for (i in 1:100) A=A+(x[i]-mean(x))*(y[i]-mean(y))\n",
    "A"
   ]
  },
  {
   "cell_type": "code",
   "execution_count": 51,
   "id": "3068d166-81d6-48ca-92e7-34964f172a4f",
   "metadata": {
    "id": "3068d166-81d6-48ca-92e7-34964f172a4f",
    "outputId": "5645538e-9a96-4df5-96e4-4173baa02a87"
   },
   "outputs": [
    {
     "data": {
      "text/plain": [
       "[1] 11.24123"
      ]
     },
     "metadata": {},
     "output_type": "display_data"
    }
   ],
   "source": [
    "## B \n",
    "B=0 \n",
    "for (i in 1:100) B=B+(x[i]-mean(x))**2\n",
    "B=sqrt(B)\n",
    "B"
   ]
  },
  {
   "cell_type": "code",
   "execution_count": 54,
   "id": "dc43dbb4-aa89-455d-8ae6-8e70b38965cc",
   "metadata": {
    "id": "dc43dbb4-aa89-455d-8ae6-8e70b38965cc",
    "outputId": "5b39de43-3c30-41a8-d519-39b59e4ad77c"
   },
   "outputs": [
    {
     "data": {
      "text/plain": [
       "[1] 10.92373"
      ]
     },
     "metadata": {},
     "output_type": "display_data"
    }
   ],
   "source": [
    "## C\n",
    "C=0 \n",
    "for (i in 1:100) C=C+(y[i]-mean(y))**2\n",
    "C=sqrt(C)\n",
    "C"
   ]
  },
  {
   "cell_type": "code",
   "execution_count": 55,
   "id": "7ff6ea13-fc7d-4dd2-b411-47d8bed6f7dc",
   "metadata": {
    "id": "7ff6ea13-fc7d-4dd2-b411-47d8bed6f7dc",
    "outputId": "9257b89c-8c1a-48df-8284-5968f592c49f"
   },
   "outputs": [
    {
     "data": {
      "text/plain": [
       "[1] 0.05054633"
      ]
     },
     "metadata": {},
     "output_type": "display_data"
    }
   ],
   "source": [
    "A/(B*C)"
   ]
  },
  {
   "cell_type": "markdown",
   "id": "5b35c5fe-aedb-4601-a188-73dfb38fd866",
   "metadata": {
    "id": "5b35c5fe-aedb-4601-a188-73dfb38fd866"
   },
   "source": [
    "(다른풀이) "
   ]
  },
  {
   "cell_type": "code",
   "execution_count": null,
   "id": "e7233f67-e600-42cb-b653-c68b8052666f",
   "metadata": {
    "id": "e7233f67-e600-42cb-b653-c68b8052666f",
    "outputId": "22fd8626-7b8b-4ee5-c831-8d752e092c4b"
   },
   "outputs": [],
   "source": [
    "sum((x-mean(x))*(y-mean(y))) / (sqrt(sum((x-mean(x))**2)) * sqrt(sum((y-mean(y))**2)))"
   ]
  },
  {
   "cell_type": "markdown",
   "id": "a049cfe1-affb-4f05-a18a-a20bb152efaf",
   "metadata": {
    "id": "a049cfe1-affb-4f05-a18a-a20bb152efaf"
   },
   "source": [
    "(다른풀이2) "
   ]
  },
  {
   "cell_type": "markdown",
   "id": "b4dd6953-04d8-41cb-ac1e-1686a32032c8",
   "metadata": {
    "id": "b4dd6953-04d8-41cb-ac1e-1686a32032c8"
   },
   "source": [
    "벡터의 내적: ${\\bf x}=(x_1,\\dots,x_{100})$ 라고 하고, ${\\bf y}=(y_1,\\dots,y_{100})$ 라고 할때 두 벡터의 내적은 아래와 같이 계산한다. \n",
    "\n",
    "$${\\bf x} \\cdot {\\bf y} = x_1 y_1 + \\dots + x_{100}y_{100}$$"
   ]
  },
  {
   "cell_type": "code",
   "execution_count": null,
   "id": "6ffd3dac-94a7-4e6d-94e7-d824720c40bd",
   "metadata": {
    "id": "6ffd3dac-94a7-4e6d-94e7-d824720c40bd"
   },
   "outputs": [],
   "source": [
    "x_ <- c(1,2,3)\n",
    "y_ <- c(2,3,4) "
   ]
  },
  {
   "cell_type": "code",
   "execution_count": null,
   "id": "fe982324-1662-4602-95ad-cd6831d4e633",
   "metadata": {
    "id": "fe982324-1662-4602-95ad-cd6831d4e633",
    "outputId": "3cf2b6b4-83ed-402b-c8ef-2d796828ae52"
   },
   "outputs": [],
   "source": [
    "x_ %*% y_ "
   ]
  },
  {
   "cell_type": "code",
   "execution_count": null,
   "id": "aa2a473d-7aeb-4599-81db-adefb07abf73",
   "metadata": {
    "id": "aa2a473d-7aeb-4599-81db-adefb07abf73",
    "outputId": "d7c86cba-cafd-479b-85db-87b9ddd2e4a3"
   },
   "outputs": [],
   "source": [
    "1*2+ 2*3+ 3*4 "
   ]
  },
  {
   "cell_type": "markdown",
   "id": "7d77a133-55ea-41cc-b0bb-ab35108ead97",
   "metadata": {
    "id": "7d77a133-55ea-41cc-b0bb-ab35108ead97"
   },
   "source": [
    "이러한 성질을 이용하면 "
   ]
  },
  {
   "cell_type": "code",
   "execution_count": null,
   "id": "cf0f08e4-e3d8-4338-b2d2-ed44816a6902",
   "metadata": {
    "id": "cf0f08e4-e3d8-4338-b2d2-ed44816a6902"
   },
   "outputs": [],
   "source": [
    "xx= x-mean(x) \n",
    "yy= y-mean(y) "
   ]
  },
  {
   "cell_type": "code",
   "execution_count": 38,
   "id": "f5633435-c97c-43bb-8511-151ac8f11706",
   "metadata": {
    "id": "f5633435-c97c-43bb-8511-151ac8f11706",
    "outputId": "ef0834a3-6d17-4e39-d53a-a5b69929e253"
   },
   "outputs": [
    {
     "ename": "ERROR",
     "evalue": "Error in eval(expr, envir, enclos): 객체 'xx'를 찾을 수 없습니다\n",
     "output_type": "error",
     "traceback": [
      "Error in eval(expr, envir, enclos): 객체 'xx'를 찾을 수 없습니다\nTraceback:\n"
     ]
    }
   ],
   "source": [
    "((xx %*% yy) / (sqrt(xx %*% xx  )* sqrt(yy %*% yy  ))) "
   ]
  }
 ],
 "metadata": {
  "colab": {
   "name": "2021-11-16-(10주차) 11월16일.ipynb",
   "provenance": []
  },
  "kernelspec": {
   "display_name": "R",
   "language": "R",
   "name": "ir"
  },
  "language_info": {
   "codemirror_mode": "r",
   "file_extension": ".r",
   "mimetype": "text/x-r-source",
   "name": "R",
   "pygments_lexer": "r",
   "version": "4.0.2"
  }
 },
 "nbformat": 4,
 "nbformat_minor": 5
}
