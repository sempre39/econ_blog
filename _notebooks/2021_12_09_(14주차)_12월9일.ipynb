{
 "cells": [
  {
   "cell_type": "code",
   "execution_count": 1,
   "id": "68c51098-478a-4498-b11c-024cc733de37",
   "metadata": {
    "tags": []
   },
   "outputs": [],
   "source": [
    "#hide\n",
    "options(jupyter.plot_scale=3)\n",
    "options(jupyter.display_mimetypes=c(\"text/html\"))\n",
    "options(jupyter.rich_display=FALSE)\n",
    "options(repr.plot.width=6,repr.plot.height=6,repr.plot.res=300)\n",
    "options(max.print=200)"
   ]
  },
  {
   "cell_type": "markdown",
   "id": "8a81092f-ddd8-4e35-9bbe-fe265a21ee19",
   "metadata": {},
   "source": [
    "# (14주차) 12월9일 \n",
    "> 징검다리3 문제풀이 (풀이2,3)\n",
    "\n",
    "- toc:true\n",
    "- branch: master\n",
    "- badges: true\n",
    "- comments: true\n",
    "- author: 최규빈"
   ]
  },
  {
   "cell_type": "markdown",
   "id": "d92cfbac-8a45-4e43-be54-8b67772cbe0f",
   "metadata": {
    "tags": []
   },
   "source": [
    "### 징검다리 문제 III."
   ]
  },
  {
   "cell_type": "markdown",
   "id": "03a6bfda-5d36-4c3b-84ef-cd6dbfd207b9",
   "metadata": {},
   "source": [
    "강화유리와 유리를 구분할 수 있는 유리 장인이 있다. \n",
    "\n",
    "이 유리장인은 80퍼센트의 확률로 강화유리를 고른다. \n",
    "\n",
    "총 10명의 참가자가 있고 이 참가자들은 (유리,강화유리)의 조합으로 이루어진 징검다리를 5번연속으로 건너야 한다. \n",
    "\n",
    "아래의 경우에 참가자들은 평균적으로 몇명이 살아남겠는가? "
   ]
  },
  {
   "cell_type": "markdown",
   "id": "d7542d49-f840-4949-8206-50357bf9af91",
   "metadata": {},
   "source": [
    "(1) 일반인1 - 일반인2 - .... - 일반인9 - 유리장인 || (강화유리, 유리) "
   ]
  },
  {
   "cell_type": "markdown",
   "id": "d7d7310e-d982-4f95-bf70-14858693219a",
   "metadata": {},
   "source": [
    "(2) 유리장인 - 일반인1 - 일반인2 - ... - 일반인9 || (강화유리, 유리) "
   ]
  },
  {
   "cell_type": "markdown",
   "id": "d8bd7f95-7cba-4d1d-83e0-48ff6e848c01",
   "metadata": {},
   "source": [
    "1000번 시뮬레이션을 하여 결과를 추정하라. "
   ]
  },
  {
   "cell_type": "markdown",
   "id": "3d4ac9bc-3b3d-4195-aeb5-5071162aec6c",
   "metadata": {},
   "source": [
    "***(단, 일반인은 50%의 확률로 강화유리를 고를수 있다고 하자)*** "
   ]
  },
  {
   "cell_type": "markdown",
   "id": "0d4a7917-d0cc-46cf-95de-27e000f76356",
   "metadata": {},
   "source": [
    "---"
   ]
  },
  {
   "cell_type": "markdown",
   "id": "416a16cf-0c95-485b-a239-f0860a0d68ec",
   "metadata": {},
   "source": [
    "**[예시]** (1)의 시뮬레이션 결과가 아래와 같다고 하자. "
   ]
  },
  {
   "cell_type": "markdown",
   "id": "d8816cd9-a90f-4037-bc32-48d7e6d893cd",
   "metadata": {},
   "source": [
    "- 첫번째 징검다리: 유리장인이 강화유리 선택 \n",
    "- 두번째 징검다리: 유리장인이 강화유리 선택 \n",
    "- 세번째 징검다리: 유리장인이 일반유리 선택 $\\to$ 유리장인 탈락 & 일반인9는 당연히 강화유리를 선택 \n",
    "- 네번째 징검다리: 일반인9가 일반유리 선택 $\\to$ 일반인9 탈락 & 일반인8은 당연히 강화유리 선택 \n",
    "- 다섯번째 징검다리: 일반인8이 강화유리 선택 "
   ]
  },
  {
   "cell_type": "markdown",
   "id": "3fb7c5fc-7def-4abf-bec3-806e8d18b6d1",
   "metadata": {},
   "source": [
    "이 경우는 일반인8,일반인7, $\\dots$, 일반인1이 살아남으므로 8명이 살아남는다. "
   ]
  },
  {
   "cell_type": "markdown",
   "id": "3e5ceb3f-4af2-4df9-8295-edbc32193c5f",
   "metadata": {},
   "source": [
    "**[예시]** (2)의 시뮬레이션 결과가 아래와 같다고 하자. "
   ]
  },
  {
   "cell_type": "markdown",
   "id": "46060b67-77ad-4706-9ca7-18e346dfea6d",
   "metadata": {},
   "source": [
    "- 첫번째 징검다리: 일반인9 일반유리 선택 $\\to$ 일반인9 탈락 & 일반인8은 강화유리 선택 \n",
    "- 두번째 징검다리: 일반인8 일반유리 선택 $\\to$ 일반인8 탈락 & 일반인7은 강화유리 선택 \n",
    "- 세번째 징검다리: 일반인7 일반유리 선택 $\\to$ 일반인7 탈락 & 일반인6은 강화유리 선택 \n",
    "- 네번째 징검다리: 일반인6 일반유리 선택 $\\to$ 일반인6 탈락 & 일반인5는 강화유리 선택 \n",
    "- 다섯번째 징검다리: 일반인5 일반유리 선택 $\\to$ 일반인5 탈락 & 일반인4는 강화유리 선택 "
   ]
  },
  {
   "cell_type": "markdown",
   "id": "9300cd26-d766-41cb-a878-26bc8d5f1c84",
   "metadata": {},
   "source": [
    "이 경우는 일반인4,일반인3,일반인2,일반인1,유리장인 이 살아남는다. (따라서 5명)"
   ]
  },
  {
   "cell_type": "markdown",
   "id": "3c5362d8-1f38-43d0-9ba2-d184e99b26f3",
   "metadata": {},
   "source": [
    "`-` 즉 살아남을수 있는 최대인원수는 10명이며 최소인원수는 5명이다. "
   ]
  },
  {
   "cell_type": "markdown",
   "id": "eb46be53-d419-4476-9838-bc3a8aa73f23",
   "metadata": {},
   "source": [
    "`-` 유리장인이 100%의 확률로 강화유리를 구분한다면 (1)의 경우 항상 10명이 살아남는다. (즉 평균도 10명) "
   ]
  },
  {
   "cell_type": "markdown",
   "id": "776ccc59-c086-47c5-b685-12cb2f06c62b",
   "metadata": {},
   "source": [
    "### 풀이2 "
   ]
  },
  {
   "cell_type": "markdown",
   "id": "957894e1-7d25-408c-8f32-ebc3e5741e2c",
   "metadata": {},
   "source": [
    "(1) 일반인1 - 일반인2 - .... - 일반인9 - 유리장인 || (강화유리, 유리) "
   ]
  },
  {
   "cell_type": "markdown",
   "id": "005a345d-f98a-41dc-b759-a3b0730d718b",
   "metadata": {},
   "source": [
    "총 살아남은 사람의 수 = 5 + 5번의 기회 중에서 일반인의 성공횟수"
   ]
  },
  {
   "cell_type": "code",
   "execution_count": 14,
   "id": "9b7ca3ee-2b97-4179-8ee7-b46df201d93d",
   "metadata": {},
   "outputs": [
    {
     "name": "stderr",
     "output_type": "stream",
     "text": [
      "Warning message:\n",
      "“package ‘tidyverse’ was built under R version 4.0.3”\n",
      "── \u001b[1mAttaching packages\u001b[22m ─────────────────────────────────────── tidyverse 1.3.1 ──\n",
      "\n",
      "\u001b[32m✔\u001b[39m \u001b[34mggplot2\u001b[39m 3.3.5     \u001b[32m✔\u001b[39m \u001b[34mpurrr  \u001b[39m 0.3.4\n",
      "\u001b[32m✔\u001b[39m \u001b[34mtibble \u001b[39m 3.1.6     \u001b[32m✔\u001b[39m \u001b[34mdplyr  \u001b[39m 1.0.7\n",
      "\u001b[32m✔\u001b[39m \u001b[34mtidyr  \u001b[39m 1.1.4     \u001b[32m✔\u001b[39m \u001b[34mstringr\u001b[39m 1.4.0\n",
      "\u001b[32m✔\u001b[39m \u001b[34mreadr  \u001b[39m 2.1.1     \u001b[32m✔\u001b[39m \u001b[34mforcats\u001b[39m 0.5.1\n",
      "\n",
      "Warning message:\n",
      "“package ‘ggplot2’ was built under R version 4.0.5”\n",
      "Warning message:\n",
      "“package ‘tibble’ was built under R version 4.0.5”\n",
      "Warning message:\n",
      "“package ‘tidyr’ was built under R version 4.0.5”\n",
      "Warning message:\n",
      "“package ‘readr’ was built under R version 4.0.5”\n",
      "Warning message:\n",
      "“package ‘purrr’ was built under R version 4.0.3”\n",
      "Warning message:\n",
      "“package ‘dplyr’ was built under R version 4.0.5”\n",
      "Warning message:\n",
      "“package ‘stringr’ was built under R version 4.0.5”\n",
      "Warning message:\n",
      "“package ‘forcats’ was built under R version 4.0.3”\n",
      "── \u001b[1mConflicts\u001b[22m ────────────────────────────────────────── tidyverse_conflicts() ──\n",
      "\u001b[31m✖\u001b[39m \u001b[34mdplyr\u001b[39m::\u001b[32mfilter()\u001b[39m masks \u001b[34mstats\u001b[39m::filter()\n",
      "\u001b[31m✖\u001b[39m \u001b[34mdplyr\u001b[39m::\u001b[32mlag()\u001b[39m    masks \u001b[34mstats\u001b[39m::lag()\n",
      "\n"
     ]
    }
   ],
   "source": [
    "library(tidyverse)"
   ]
  },
  {
   "cell_type": "code",
   "execution_count": 17,
   "id": "7d65ee6a-518f-406f-af8e-c005416384a5",
   "metadata": {},
   "outputs": [
    {
     "data": {
      "text/plain": [
       "[1] 4"
      ]
     },
     "metadata": {},
     "output_type": "display_data"
    }
   ],
   "source": [
    "y = rbinom(1, size=5, 0.5)\n",
    "y"
   ]
  },
  {
   "cell_type": "markdown",
   "id": "ccb5ac62-d16b-4da3-8a29-46a0f5f772fd",
   "metadata": {},
   "source": [
    "`-` 살아남은 사람수는 ?"
   ]
  },
  {
   "cell_type": "code",
   "execution_count": 23,
   "id": "a5fcbf28-4737-44c6-9848-ad9491a6d069",
   "metadata": {},
   "outputs": [
    {
     "name": "stdout",
     "output_type": "stream",
     "text": [
      "[1] 6\n"
     ]
    }
   ],
   "source": [
    "print(5+y)"
   ]
  },
  {
   "cell_type": "markdown",
   "id": "08a990f0-33c6-487a-9c9d-bf9541edc90f",
   "metadata": {},
   "source": [
    "`-` 정리하면"
   ]
  },
  {
   "cell_type": "code",
   "execution_count": 42,
   "id": "86b71d49-9f08-47b4-a3da-b18ad9c23513",
   "metadata": {},
   "outputs": [],
   "source": [
    "rslt <- c()\n",
    "for (i in 1:10000) {\n",
    "    y = rbinom(1, size = 5, 0.5)\n",
    "    rslt[i]=5+y\n",
    "}"
   ]
  },
  {
   "cell_type": "code",
   "execution_count": 43,
   "id": "1d62d4e6-b437-4a17-ab99-71869f5f8462",
   "metadata": {},
   "outputs": [
    {
     "data": {
      "text/plain": [
       "[1] 7.4965"
      ]
     },
     "metadata": {},
     "output_type": "display_data"
    }
   ],
   "source": [
    "rslt1 = mean(rslt)\n",
    "rslt1"
   ]
  },
  {
   "cell_type": "markdown",
   "id": "3b481425-db98-4641-8c1f-8d6be38d7b90",
   "metadata": {},
   "source": [
    "(2) 유리장인 - 일반인1 - 일반인2 - ... - 일반인9 || (강화유리, 유리) "
   ]
  },
  {
   "cell_type": "markdown",
   "id": "14594301-9d77-4fd6-b4d6-0acfd6adaac6",
   "metadata": {},
   "source": [
    "`총 살아남은 사람의 수 = 5 + 장인의 성공횟수 + (5-장인의성공횟수-1)의 기회중에서 일반인의 성공횟수`\n",
    "\n",
    "- 단 (5-장인의성공횟수-1)=<0 이면 마지막항은 0으로 계산한다. "
   ]
  },
  {
   "cell_type": "code",
   "execution_count": 46,
   "id": "0f936a1b-53b2-4cb7-8126-154ad17564b5",
   "metadata": {},
   "outputs": [],
   "source": [
    "rslt <- c()\n",
    "for (i in 1:10000){\n",
    "    x=sum(cumprod(rbinom(5,size=1,0.8)))\n",
    "    xx_=5-x-1 \n",
    "    if (xx_>0) y = rbinom(1, size=xx_, 0.5) else y=0 \n",
    "    rslt[i]=5+x+y\n",
    "}"
   ]
  },
  {
   "cell_type": "code",
   "execution_count": 47,
   "id": "670bbb52-7dfc-441a-8642-b685408bd86e",
   "metadata": {},
   "outputs": [
    {
     "data": {
      "text/plain": [
       "[1] 8.5053"
      ]
     },
     "metadata": {},
     "output_type": "display_data"
    }
   ],
   "source": [
    "rslt2 = mean(rslt) \n",
    "rslt2"
   ]
  },
  {
   "cell_type": "code",
   "execution_count": 48,
   "id": "951f5aa3-5f6b-4183-b811-a8f434c283e6",
   "metadata": {},
   "outputs": [
    {
     "name": "stdout",
     "output_type": "stream",
     "text": [
      "[1] 7.4965 8.5053\n"
     ]
    }
   ],
   "source": [
    "print(c(rslt1, rslt2))"
   ]
  },
  {
   "cell_type": "markdown",
   "id": "20644061-e118-49c5-b549-3668851aa968",
   "metadata": {},
   "source": [
    "### 풀이3"
   ]
  },
  {
   "cell_type": "markdown",
   "id": "0ae8ddec-e3f3-4440-a245-9c004fb83c69",
   "metadata": {},
   "source": [
    "(1) 일반인1 - 일반인2 - .... - 일반인9 - 유리장인 || (강화유리, 유리) "
   ]
  },
  {
   "cell_type": "code",
   "execution_count": 51,
   "id": "9f2716f7-4a06-4315-9e55-2c5f35004058",
   "metadata": {},
   "outputs": [],
   "source": [
    "rm(list=ls())"
   ]
  },
  {
   "cell_type": "code",
   "execution_count": 58,
   "id": "e49ef9f7-f6b4-46d3-b419-980727bdcc30",
   "metadata": {},
   "outputs": [],
   "source": [
    "SIMULATE1 = function(){\n",
    "### 변수들의 모음\n",
    "ARR = c('A','N1','N2','N3','N4','N5','N6','N7','N8','N9')\n",
    "SURV = 10 \n",
    "PLAYER = ARR[SURV]\n",
    "STAGE = 0 \n",
    "TOSSRSLT = NA\n",
    "\n",
    "### Subfunction들의 모음 \n",
    "toss = function(p) rbinom(n=1,size=1,prob=p) %>% as.logical\n",
    "reset = function(){\n",
    "    TOSSRSLT <<- NA\n",
    "    SURV <<- 10\n",
    "    STAGE <<- 0 \n",
    "    PLAYER <<- ARR[SURV]\n",
    "}\n",
    "record = function(){\n",
    "    list(PRE_TOSSRSLT=TOSSRSLT, SURV=SURV, STAGE=STAGE, PLAYER=PLAYER) \n",
    "}\n",
    "go = function(){\n",
    "    PROB <<- 0.5+ (PLAYER=='A')*0.3\n",
    "    TOSSRSLT <<- toss(PROB) \n",
    "    if (TOSSRSLT==FALSE) SURV <<- SURV - 1 \n",
    "    STAGE <<- STAGE + 1 \n",
    "    PLAYER <<- ARR[SURV]    \n",
    "}\n",
    "gogo = function() for(i in 1:5) go()\n",
    "\n",
    "gogo_history = function(){\n",
    "    rslt_ = as_tibble(record()) ## go를 시작하기전의 결과가 티블로 만들어짐 \n",
    "    for(i in 1:5){\n",
    "        go()\n",
    "        rslt_ = rbind(rslt_, as_tibble(record())) \n",
    "    }\n",
    "    print(rslt_)\n",
    "}\n",
    "\n",
    "simulate_once = function(){\n",
    "    reset()\n",
    "    gogo()\n",
    "    return(record()$SURV )\n",
    "}\n",
    "\n",
    "### BODY\n",
    "simrslt = c() \n",
    "for (i in 1:100000) simrslt[i] = simulate_once() \n",
    "mean(simrslt)\n",
    "}"
   ]
  },
  {
   "cell_type": "code",
   "execution_count": 59,
   "id": "18142af5-d5c9-4013-91aa-d97dae1c292d",
   "metadata": {},
   "outputs": [
    {
     "data": {
      "text/plain": [
       "[1] 7.50565"
      ]
     },
     "metadata": {},
     "output_type": "display_data"
    }
   ],
   "source": [
    "rslt1 = SIMULATE1()\n",
    "rslt1"
   ]
  },
  {
   "cell_type": "markdown",
   "id": "9c2ba2df-1ce7-4ad0-bfbf-579c769bae36",
   "metadata": {},
   "source": [
    "(2) 유리장인 - 일반인1 - 일반인2 - ... - 일반인9 || (강화유리, 유리) "
   ]
  },
  {
   "cell_type": "code",
   "execution_count": 60,
   "id": "472a99c5-addd-4181-adb8-c4b8458e6a35",
   "metadata": {},
   "outputs": [],
   "source": [
    "SIMULATE2 = function(){\n",
    "### 변수들의 모음\n",
    "ARR = c('N1','N2','N3','N4','N5','N6','N7','N8','N9','A')\n",
    "SURV = 10 \n",
    "PLAYER = ARR[SURV]\n",
    "STAGE = 0 \n",
    "TOSSRSLT = NA\n",
    "\n",
    "### Subfunction들의 모음 \n",
    "toss = function(p) rbinom(n=1,size=1,prob=p) %>% as.logical\n",
    "reset = function(){\n",
    "    TOSSRSLT <<- NA\n",
    "    SURV <<- 10\n",
    "    STAGE <<- 0 \n",
    "    PLAYER <<- ARR[SURV]\n",
    "}\n",
    "record = function(){\n",
    "    list(PRE_TOSSRSLT=TOSSRSLT, SURV=SURV, STAGE=STAGE, PLAYER=PLAYER) \n",
    "}\n",
    "go = function(){\n",
    "    PROB <<- 0.5+ (PLAYER=='A')*0.3\n",
    "    TOSSRSLT <<- toss(PROB) \n",
    "    if (TOSSRSLT==FALSE) SURV <<- SURV - 1 \n",
    "    STAGE <<- STAGE + 1 \n",
    "    PLAYER <<- ARR[SURV]    \n",
    "}\n",
    "gogo = function() for(i in 1:5) go()\n",
    "\n",
    "gogo_history = function(){\n",
    "    rslt_ = as_tibble(record()) ## go를 시작하기전의 결과가 티블로 만들어짐 \n",
    "    for(i in 1:5){\n",
    "        go()\n",
    "        rslt_ = rbind(rslt_, as_tibble(record())) \n",
    "    }\n",
    "    print(rslt_)\n",
    "}\n",
    "\n",
    "simulate_once = function(){\n",
    "    reset()\n",
    "    gogo()\n",
    "    return(record()$SURV )\n",
    "}\n",
    "\n",
    "### BODY\n",
    "simrslt = c() \n",
    "for (i in 1:100000) simrslt[i] = simulate_once() \n",
    "mean(simrslt)\n",
    "}"
   ]
  },
  {
   "cell_type": "code",
   "execution_count": 61,
   "id": "246f4a8e-447c-45dd-9714-c55892a0e977",
   "metadata": {},
   "outputs": [
    {
     "data": {
      "text/plain": [
       "[1] 8.50364"
      ]
     },
     "metadata": {},
     "output_type": "display_data"
    }
   ],
   "source": [
    "rslt2 = SIMULATE2()\n",
    "rslt2"
   ]
  },
  {
   "cell_type": "code",
   "execution_count": 62,
   "id": "4395e6e1-5c25-4982-b380-ded45bf04f7a",
   "metadata": {},
   "outputs": [
    {
     "name": "stdout",
     "output_type": "stream",
     "text": [
      "[1] 7.50565 8.50364\n"
     ]
    }
   ],
   "source": [
    "print(c(rslt1, rslt2))"
   ]
  }
 ],
 "metadata": {
  "kernelspec": {
   "display_name": "R",
   "language": "R",
   "name": "ir"
  },
  "language_info": {
   "codemirror_mode": "r",
   "file_extension": ".r",
   "mimetype": "text/x-r-source",
   "name": "R",
   "pygments_lexer": "r",
   "version": "4.0.2"
  }
 },
 "nbformat": 4,
 "nbformat_minor": 5
}
