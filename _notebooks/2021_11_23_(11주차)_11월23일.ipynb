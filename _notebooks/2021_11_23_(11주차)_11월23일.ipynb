{
 "cells": [
  {
   "cell_type": "code",
   "execution_count": null,
   "id": "fb59c207-f358-4b3b-850a-273ddf7fe709",
   "metadata": {
    "id": "fb59c207-f358-4b3b-850a-273ddf7fe709"
   },
   "outputs": [],
   "source": [
    "#hide\n",
    "options(jupyter.plot_scale=3)\n",
    "options(jupyter.display_mimetypes=c(\"text/html\"))\n",
    "options(jupyter.rich_display=FALSE)\n",
    "options(repr.plot.width=6,repr.plot.height=6,repr.plot.res=300)\n",
    "options(max.print=200)"
   ]
  },
  {
   "cell_type": "code",
   "execution_count": null,
   "id": "b2cc5115-6995-4884-9ec7-48cd9bd6632c",
   "metadata": {
    "id": "b2cc5115-6995-4884-9ec7-48cd9bd6632c"
   },
   "outputs": [],
   "source": [
    "library(tidyverse)"
   ]
  },
  {
   "cell_type": "markdown",
   "id": "0546262b-d3cd-4b1d-a8e3-8ec06546933e",
   "metadata": {
    "id": "0546262b-d3cd-4b1d-a8e3-8ec06546933e",
    "tags": []
   },
   "source": [
    "# (11주차) 11월23일\n",
    "> 징검다리 문제풀이 \n",
    "\n",
    "- toc:true\n",
    "- branch: master\n",
    "- badges: true\n",
    "- comments: true\n",
    "- author: 최규빈"
   ]
  },
  {
   "cell_type": "markdown",
   "id": "ce5bf3c7-11a8-4e28-8aab-edc6448ce7e8",
   "metadata": {
    "id": "ce5bf3c7-11a8-4e28-8aab-edc6448ce7e8"
   },
   "source": [
    "### 징검다리문제풀이 "
   ]
  },
  {
   "cell_type": "markdown",
   "id": "a94924f0-8d21-4718-8aa1-fb107fc37bc8",
   "metadata": {
    "id": "a94924f0-8d21-4718-8aa1-fb107fc37bc8"
   },
   "source": [
    "#### (풀이1) "
   ]
  },
  {
   "cell_type": "markdown",
   "id": "0dbeddb9-b25d-4347-96ec-b7251cb558bc",
   "metadata": {
    "id": "0dbeddb9-b25d-4347-96ec-b7251cb558bc"
   },
   "source": [
    "`-` (유리, 강화유리) "
   ]
  },
  {
   "cell_type": "code",
   "execution_count": null,
   "id": "bd91fe9c-d4ba-4430-a625-94fb8d83bdef",
   "metadata": {
    "id": "bd91fe9c-d4ba-4430-a625-94fb8d83bdef",
    "outputId": "c563eaee-2243-4bd2-fbb9-abc3a721e00b"
   },
   "outputs": [
    {
     "data": {
      "text/plain": [
       "[1] \"tempered glass\" \"glass\"         "
      ]
     },
     "metadata": {},
     "output_type": "display_data"
    }
   ],
   "source": [
    "set = c('tempered glass','glass')\n",
    "set"
   ]
  },
  {
   "cell_type": "markdown",
   "id": "16adf7e9-ab4c-4244-b44e-58815d1dcbf8",
   "metadata": {
    "id": "16adf7e9-ab4c-4244-b44e-58815d1dcbf8"
   },
   "source": [
    "`-` `sample`을 이용하여 0.8의 확률로 강화유리를 뽑음 "
   ]
  },
  {
   "cell_type": "code",
   "execution_count": null,
   "id": "362886ec-57a1-47b3-ba20-2473cebdfd86",
   "metadata": {
    "id": "362886ec-57a1-47b3-ba20-2473cebdfd86",
    "outputId": "d00c8ee6-473e-40f6-aa8f-41a07a9c5b69"
   },
   "outputs": [
    {
     "data": {
      "text/plain": [
       "[1] \"tempered glass\" \"tempered glass\" \"tempered glass\" \"glass\"         \n",
       "[5] \"tempered glass\""
      ]
     },
     "metadata": {},
     "output_type": "display_data"
    }
   ],
   "source": [
    "sample(size=5, set, prob=c(0.8,0.2),replace=T)"
   ]
  },
  {
   "cell_type": "markdown",
   "id": "1afaf918-921d-494e-af54-7eb3ddafc17b",
   "metadata": {
    "id": "1afaf918-921d-494e-af54-7eb3ddafc17b"
   },
   "source": [
    "`-` 함수로 보기좋게 만들자. "
   ]
  },
  {
   "cell_type": "code",
   "execution_count": null,
   "id": "b2881fed-053f-4350-899a-b9016ce582f8",
   "metadata": {
    "id": "b2881fed-053f-4350-899a-b9016ce582f8"
   },
   "outputs": [],
   "source": [
    "simulate_once = function() sample(size=5, set, prob=c(0.8,0.2),replace=T) #입력이 없는 함수"
   ]
  },
  {
   "cell_type": "code",
   "execution_count": null,
   "id": "2cfaa7e0-d5ee-4d8a-98d3-1d3e5dc73de7",
   "metadata": {
    "id": "2cfaa7e0-d5ee-4d8a-98d3-1d3e5dc73de7",
    "outputId": "46fadaed-c533-4f19-d3c8-09230956cba9"
   },
   "outputs": [
    {
     "data": {
      "text/plain": [
       "[1] \"glass\"          \"tempered glass\" \"tempered glass\" \"tempered glass\"\n",
       "[5] \"tempered glass\""
      ]
     },
     "metadata": {},
     "output_type": "display_data"
    }
   ],
   "source": [
    "simulate_once()"
   ]
  },
  {
   "cell_type": "markdown",
   "id": "271015d6-7a1f-4e4b-8117-a51c84c36e39",
   "metadata": {
    "id": "271015d6-7a1f-4e4b-8117-a51c84c36e39"
   },
   "source": [
    "`-` 뽑은결과를 바탕으로 사망유무를 판단"
   ]
  },
  {
   "cell_type": "code",
   "execution_count": null,
   "id": "0f6d5ccb-be43-4272-985e-94d980be0781",
   "metadata": {
    "id": "0f6d5ccb-be43-4272-985e-94d980be0781",
    "outputId": "e0e25a80-cd2d-446c-9b72-4589c76b66b7"
   },
   "outputs": [
    {
     "data": {
      "text/plain": [
       "[1] \"tempered glass\" \"tempered glass\" \"tempered glass\" \"glass\"         \n",
       "[5] \"tempered glass\""
      ]
     },
     "metadata": {},
     "output_type": "display_data"
    }
   ],
   "source": [
    "a = simulate_once()\n",
    "a"
   ]
  },
  {
   "cell_type": "code",
   "execution_count": null,
   "id": "98d0ba38-e741-4202-b1a3-6b48305c645b",
   "metadata": {
    "id": "98d0ba38-e741-4202-b1a3-6b48305c645b",
    "outputId": "b297b044-a784-4373-eab1-5cc7fd8ce4ad"
   },
   "outputs": [
    {
     "data": {
      "text/plain": [
       "[1] FALSE"
      ]
     },
     "metadata": {},
     "output_type": "display_data"
    }
   ],
   "source": [
    "a[1] == \"tempered glass\" & \n",
    "a[2] == \"tempered glass\" & \n",
    "a[3] == \"tempered glass\" & \n",
    "a[4] == \"tempered glass\" & \n",
    "a[5] == \"tempered glass\" "
   ]
  },
  {
   "cell_type": "markdown",
   "id": "3f4b801e-3c6d-4ac1-9191-e3a77c4e6484",
   "metadata": {
    "id": "3f4b801e-3c6d-4ac1-9191-e3a77c4e6484"
   },
   "source": [
    "- 조건"
   ]
  },
  {
   "cell_type": "markdown",
   "id": "24122221-11cb-43d3-b1a5-cbec91a96321",
   "metadata": {
    "id": "24122221-11cb-43d3-b1a5-cbec91a96321"
   },
   "source": [
    "`-` 위의 조건이 참이면 b=1, 참이 아니라면 b=0 "
   ]
  },
  {
   "cell_type": "code",
   "execution_count": null,
   "id": "8d8a12e8-b943-4b8d-8dba-284d47ac052e",
   "metadata": {
    "id": "8d8a12e8-b943-4b8d-8dba-284d47ac052e"
   },
   "outputs": [],
   "source": [
    "if (a[1] == \"tempered glass\" &\n",
    "    a[2] == \"tempered glass\" & \n",
    "    a[3] == \"tempered glass\" & \n",
    "    a[4] == \"tempered glass\" & \n",
    "    a[5] == \"tempered glass\"){\n",
    "    b=1\n",
    "    }else{\n",
    "    b=0}    "
   ]
  },
  {
   "cell_type": "code",
   "execution_count": null,
   "id": "ed224212-c94b-4831-b903-307e8c1d0dde",
   "metadata": {
    "id": "ed224212-c94b-4831-b903-307e8c1d0dde",
    "outputId": "e2e52675-359f-43a0-e4d8-cecd90ce1cd4"
   },
   "outputs": [
    {
     "data": {
      "text/plain": [
       "[1] 0"
      ]
     },
     "metadata": {},
     "output_type": "display_data"
    }
   ],
   "source": [
    "b"
   ]
  },
  {
   "cell_type": "markdown",
   "id": "e068a50c-3fcb-4c87-9124-556376321caa",
   "metadata": {
    "id": "e068a50c-3fcb-4c87-9124-556376321caa"
   },
   "source": [
    "`-` 함수로 정리하자. "
   ]
  },
  {
   "cell_type": "code",
   "execution_count": null,
   "id": "11d6a061-4c26-4f35-9488-8f261a542b8d",
   "metadata": {
    "id": "11d6a061-4c26-4f35-9488-8f261a542b8d"
   },
   "outputs": [],
   "source": [
    "test = function(a){\n",
    "    if (a[1] == \"tempered glass\" &\n",
    "        a[2] == \"tempered glass\" & \n",
    "        a[3] == \"tempered glass\" & \n",
    "        a[4] == \"tempered glass\" & \n",
    "        a[5] == \"tempered glass\") b=1 else b=0 \n",
    "    b\n",
    "}"
   ]
  },
  {
   "cell_type": "code",
   "execution_count": null,
   "id": "40a0eba6-2ef1-406f-abef-b2e08d35de6c",
   "metadata": {
    "id": "40a0eba6-2ef1-406f-abef-b2e08d35de6c",
    "outputId": "1ffa7f27-09d6-4dc3-d8e6-f3985aeeb261"
   },
   "outputs": [
    {
     "name": "stdout",
     "output_type": "stream",
     "text": [
      "[1] \"tempered glass\" \"tempered glass\" \"tempered glass\" \"tempered glass\"\n",
      "[5] \"tempered glass\"\n"
     ]
    },
    {
     "data": {
      "text/plain": [
       "[1] 1"
      ]
     },
     "metadata": {},
     "output_type": "display_data"
    }
   ],
   "source": [
    "a=simulate_once()\n",
    "print(a)\n",
    "test(a)"
   ]
  },
  {
   "cell_type": "markdown",
   "id": "2e560369-cd5f-40a9-b5be-905091a54774",
   "metadata": {
    "id": "2e560369-cd5f-40a9-b5be-905091a54774"
   },
   "source": [
    "`-` 답을 구해보자 "
   ]
  },
  {
   "cell_type": "code",
   "execution_count": null,
   "id": "c8fad8a7-727e-4843-b10c-cba0e507a178",
   "metadata": {
    "id": "c8fad8a7-727e-4843-b10c-cba0e507a178"
   },
   "outputs": [],
   "source": [
    "sum_ = 0 \n",
    "for (i in 1:1000) sum_ = sum_ + test(simulate_once()) "
   ]
  },
  {
   "cell_type": "code",
   "execution_count": null,
   "id": "499ef7aa-6b79-4654-93ed-85c7225a50dd",
   "metadata": {
    "id": "499ef7aa-6b79-4654-93ed-85c7225a50dd",
    "outputId": "49ea1060-1c4f-42eb-e2ac-9f1f4786c1de"
   },
   "outputs": [
    {
     "data": {
      "text/plain": [
       "[1] 322"
      ]
     },
     "metadata": {},
     "output_type": "display_data"
    }
   ],
   "source": [
    "sum_"
   ]
  },
  {
   "cell_type": "markdown",
   "id": "63f7028f-4e22-4134-ba51-4334aed00425",
   "metadata": {
    "id": "63f7028f-4e22-4134-ba51-4334aed00425"
   },
   "source": [
    "#### (풀이2) "
   ]
  },
  {
   "cell_type": "markdown",
   "id": "6bcb962b-ea78-4005-a7a1-4ba2a2792feb",
   "metadata": {
    "id": "6bcb962b-ea78-4005-a7a1-4ba2a2792feb"
   },
   "source": [
    "`-` 시행결과를 벡터로하는 편이 좋겠다. "
   ]
  },
  {
   "cell_type": "code",
   "execution_count": null,
   "id": "92ecd0c3-b0e2-4af9-8600-fbd21a321db4",
   "metadata": {
    "id": "92ecd0c3-b0e2-4af9-8600-fbd21a321db4"
   },
   "outputs": [],
   "source": [
    "set = c('tempered glass','glass')\n",
    "simulate_once = function() sample(size=5, set, prob=c(0.8,0.2),replace=T) #입력이 없는 함수\n",
    "test = function(a){\n",
    "    if (a[1] == \"tempered glass\" &\n",
    "        a[2] == \"tempered glass\" & \n",
    "        a[3] == \"tempered glass\" & \n",
    "        a[4] == \"tempered glass\" & \n",
    "        a[5] == \"tempered glass\") b=1 else b=0 \n",
    "    b\n",
    "}\n",
    "# sum_ = 0 \n",
    "# for (i in 1:1000) sum_ = sum_ + test(simulate_once())  컨트롤+/ (Rstudio: 컨트롤+쉬프트+c) \n",
    "rslt = c()\n",
    "for (i in 1:1000) rslt[i] = test(simulate_once())"
   ]
  },
  {
   "cell_type": "code",
   "execution_count": null,
   "id": "86db2e21-26b0-4eed-878e-a74bf5ebace1",
   "metadata": {
    "id": "86db2e21-26b0-4eed-878e-a74bf5ebace1",
    "outputId": "847742f1-1c5c-48af-9c3b-c6d1564099a4"
   },
   "outputs": [
    {
     "data": {
      "text/plain": [
       "  [1] 0 0 0 0 0 0 0 0 0 0 1 1 0 0 1 0 1 0 1 0 0 0 0 1 0 0 0 0 0 0 0 0 0 0 0 1 0\n",
       " [38] 0 0 0 1 0 0 0 1 1 0 0 1 0 1 0 0 1 0 1 0 1 0 0 0 0 1 0 0 1 0 0 0 0 0 0 1 1\n",
       " [75] 0 1 1 1 1 0 1 1 1 0 1 0 0 1 0 1 1 0 1 0 0 1 0 0 0 0 0 0 1 0 0 0 0 0 1 1 0\n",
       "[112] 0 0 1 0 1 0 1 0 1 0 0 0 0 1 0 0 0 1 1 1 0 1 0 0 0 0 0 1 0 0 0 1 0 0 0 1 1\n",
       "[149] 1 0 0 0 0 1 0 0 1 1 1 0 0 1 1 1 0 1 0 1 0 0 1 0 1 1 0 1 0 1 0 0 1 1 1 0 0\n",
       "[186] 0 1 0 0 1 0 0 1 0 0 0 0 0 1 0\n",
       " [ reached getOption(\"max.print\") -- omitted 800 entries ]"
      ]
     },
     "metadata": {},
     "output_type": "display_data"
    }
   ],
   "source": [
    "rslt"
   ]
  },
  {
   "cell_type": "code",
   "execution_count": null,
   "id": "dcb85682-4d3a-44b7-9292-a51fffbe460b",
   "metadata": {
    "id": "dcb85682-4d3a-44b7-9292-a51fffbe460b",
    "outputId": "f1a08660-b79a-43a6-8e66-f005f304af4d"
   },
   "outputs": [
    {
     "data": {
      "text/plain": [
       "[1] 317"
      ]
     },
     "metadata": {},
     "output_type": "display_data"
    }
   ],
   "source": [
    "sum(rslt)"
   ]
  },
  {
   "cell_type": "markdown",
   "id": "8f0e5ffe-3bef-4e26-ba21-c7c3a1056ebf",
   "metadata": {
    "id": "8f0e5ffe-3bef-4e26-ba21-c7c3a1056ebf"
   },
   "source": [
    "#### (풀이3) "
   ]
  },
  {
   "cell_type": "markdown",
   "id": "67b99586-310c-42d4-b74b-4ab42b96cd63",
   "metadata": {
    "id": "67b99586-310c-42d4-b74b-4ab42b96cd63"
   },
   "source": [
    "`-` 시뮬레이션 결과를 매트릭스에 저장하면 더 디버깅이 용이하다. "
   ]
  },
  {
   "cell_type": "code",
   "execution_count": null,
   "id": "7ad7c359-aeb8-4731-bd0d-e0213c93deaf",
   "metadata": {
    "id": "7ad7c359-aeb8-4731-bd0d-e0213c93deaf",
    "outputId": "053530c1-bf6c-4da3-906f-497c684dbd72"
   },
   "outputs": [
    {
     "data": {
      "text/plain": [
       "     [,1] [,2] [,3] [,4] [,5]\n",
       "[1,] 0    0    0    0    0   \n",
       "[2,] 0    0    0    0    0   \n",
       "[3,] 0    0    0    0    0   \n",
       "[4,] 0    0    0    0    0   \n",
       "[5,] 0    0    0    0    0   \n",
       "[6,] 0    0    0    0    0   "
      ]
     },
     "metadata": {},
     "output_type": "display_data"
    }
   ],
   "source": [
    "mat = rep(0,1000*5) \n",
    "dim(mat) = c(1000,5) \n",
    "head(mat)"
   ]
  },
  {
   "cell_type": "code",
   "execution_count": null,
   "id": "b5d5f03f-9962-422d-ac11-2ce67ef10471",
   "metadata": {
    "id": "b5d5f03f-9962-422d-ac11-2ce67ef10471",
    "outputId": "8952ecc9-7a93-40a8-d705-4ab45c7bbbc1"
   },
   "outputs": [
    {
     "data": {
      "text/plain": [
       "[1] 0 0 0 0 0"
      ]
     },
     "metadata": {},
     "output_type": "display_data"
    }
   ],
   "source": [
    "mat[1,] "
   ]
  },
  {
   "cell_type": "code",
   "execution_count": null,
   "id": "430d6cd3-d0f4-4114-81b0-b627f322f194",
   "metadata": {
    "id": "430d6cd3-d0f4-4114-81b0-b627f322f194"
   },
   "outputs": [],
   "source": [
    "mat[1,] = simulate_once() "
   ]
  },
  {
   "cell_type": "code",
   "execution_count": null,
   "id": "ac8929a2-4a6c-47af-a7dc-b43c5b6c2dbf",
   "metadata": {
    "id": "ac8929a2-4a6c-47af-a7dc-b43c5b6c2dbf",
    "outputId": "8889202c-3cfe-4342-b728-af5206152a56"
   },
   "outputs": [
    {
     "data": {
      "text/plain": [
       "     [,1]  [,2]           [,3]           [,4]           [,5] \n",
       "[1,] glass tempered glass tempered glass tempered glass glass\n",
       "[2,] 0     0              0              0              0    \n",
       "[3,] 0     0              0              0              0    \n",
       "[4,] 0     0              0              0              0    \n",
       "[5,] 0     0              0              0              0    \n",
       "[6,] 0     0              0              0              0    "
      ]
     },
     "metadata": {},
     "output_type": "display_data"
    }
   ],
   "source": [
    "head(mat)"
   ]
  },
  {
   "cell_type": "code",
   "execution_count": null,
   "id": "0f6440ef-ea66-4f17-82b0-8cb4a63863d4",
   "metadata": {
    "id": "0f6440ef-ea66-4f17-82b0-8cb4a63863d4"
   },
   "outputs": [],
   "source": [
    "for (i in 1:1000) mat[i,] = simulate_once() "
   ]
  },
  {
   "cell_type": "code",
   "execution_count": null,
   "id": "c207f16c-487d-438b-829e-83c66dbf9715",
   "metadata": {
    "id": "c207f16c-487d-438b-829e-83c66dbf9715",
    "outputId": "62053b1c-c49c-41fb-8fec-c2c637efb096"
   },
   "outputs": [
    {
     "data": {
      "text/plain": [
       "     [,1]           [,2]           [,3]           [,4]           [,5]          \n",
       "[1,] tempered glass tempered glass tempered glass tempered glass tempered glass\n",
       "[2,] glass          tempered glass tempered glass tempered glass glass         \n",
       "[3,] tempered glass tempered glass tempered glass tempered glass tempered glass\n",
       "[4,] tempered glass tempered glass tempered glass tempered glass tempered glass\n",
       "[5,] tempered glass tempered glass glass          glass          tempered glass\n",
       "[6,] tempered glass tempered glass tempered glass glass          tempered glass"
      ]
     },
     "metadata": {},
     "output_type": "display_data"
    }
   ],
   "source": [
    "head(mat)"
   ]
  },
  {
   "cell_type": "code",
   "execution_count": null,
   "id": "d1f73891-5d7b-490c-80dd-dc8a30f669ff",
   "metadata": {
    "id": "d1f73891-5d7b-490c-80dd-dc8a30f669ff"
   },
   "outputs": [],
   "source": [
    "rslt=c() \n",
    "for (i in 1:1000) rslt[i] = test(mat[i,])"
   ]
  },
  {
   "cell_type": "code",
   "execution_count": null,
   "id": "aa187895-6c74-4b54-886a-c952de4a8689",
   "metadata": {
    "id": "aa187895-6c74-4b54-886a-c952de4a8689",
    "outputId": "153a1747-cf59-4106-c9a6-eea1282f1ed6"
   },
   "outputs": [
    {
     "data": {
      "text/plain": [
       "[1] 1 0 1 1 0"
      ]
     },
     "metadata": {},
     "output_type": "display_data"
    }
   ],
   "source": [
    "rslt[1:5]"
   ]
  },
  {
   "cell_type": "code",
   "execution_count": null,
   "id": "73c59b2d-88eb-4284-bcba-c60a39647fc0",
   "metadata": {
    "id": "73c59b2d-88eb-4284-bcba-c60a39647fc0",
    "outputId": "41df7580-fbcc-4feb-cc6a-c6cf63fe3749"
   },
   "outputs": [
    {
     "data": {
      "text/plain": [
       "     [,1]           [,2]           [,3]           [,4]           [,5]          \n",
       "[1,] tempered glass tempered glass tempered glass tempered glass tempered glass\n",
       "[2,] glass          tempered glass tempered glass tempered glass glass         \n",
       "[3,] tempered glass tempered glass tempered glass tempered glass tempered glass\n",
       "[4,] tempered glass tempered glass tempered glass tempered glass tempered glass\n",
       "[5,] tempered glass tempered glass glass          glass          tempered glass"
      ]
     },
     "metadata": {},
     "output_type": "display_data"
    }
   ],
   "source": [
    "mat[1:5,]"
   ]
  },
  {
   "cell_type": "markdown",
   "id": "bc4a77f8-539f-4d44-9e65-7855c8ef68d6",
   "metadata": {
    "id": "bc4a77f8-539f-4d44-9e65-7855c8ef68d6"
   },
   "source": [
    "`-` 정리하면 "
   ]
  },
  {
   "cell_type": "code",
   "execution_count": null,
   "id": "d18711fb-37c8-40e8-982b-b42b365ae167",
   "metadata": {
    "id": "d18711fb-37c8-40e8-982b-b42b365ae167",
    "outputId": "1f717dce-af4e-4c65-bda2-39d7226c2bda"
   },
   "outputs": [
    {
     "data": {
      "text/plain": [
       "[1] 329"
      ]
     },
     "metadata": {},
     "output_type": "display_data"
    }
   ],
   "source": [
    "set = c('tempered glass','glass')\n",
    "simulate_once = function() sample(size=5, set, prob=c(0.8,0.2),replace=T) #입력이 없는 함수\n",
    "test = function(a){\n",
    "    if (a[1] == \"tempered glass\" &\n",
    "        a[2] == \"tempered glass\" & \n",
    "        a[3] == \"tempered glass\" & \n",
    "        a[4] == \"tempered glass\" & \n",
    "        a[5] == \"tempered glass\") b=1 else b=0 \n",
    "    b\n",
    "}\n",
    "mat = rep(0,1000*5) \n",
    "dim(mat) = c(1000,5) \n",
    "rslt = c()\n",
    "# for (i in 1:1000) rslt[i] = test(simulate_once())\n",
    "for (i in 1:1000){\n",
    "    mat[i,] = simulate_once() \n",
    "    rslt[i] = test(mat[i,])\n",
    "}\n",
    "sum(rslt)"
   ]
  },
  {
   "cell_type": "markdown",
   "id": "669d00e6-4011-4eb7-8d77-b455cdf438eb",
   "metadata": {
    "id": "669d00e6-4011-4eb7-8d77-b455cdf438eb"
   },
   "source": [
    "#### (풀이4) "
   ]
  },
  {
   "cell_type": "markdown",
   "id": "bf78d477-b52c-4b05-b304-0bd54c695c64",
   "metadata": {
    "id": "bf78d477-b52c-4b05-b304-0bd54c695c64"
   },
   "source": [
    "`-` 어차피 mat 매트릭스만 만들면 되니까"
   ]
  },
  {
   "cell_type": "code",
   "execution_count": null,
   "id": "282f5111-b006-46a1-8997-821d510e0d6a",
   "metadata": {
    "id": "282f5111-b006-46a1-8997-821d510e0d6a"
   },
   "outputs": [],
   "source": [
    "set = c('tempered glass','glass')\n",
    "mat= sample(size=1000*5, set, prob=c(0.8,0.2),replace=T) #입력이 없는 함수\n",
    "dim(mat)=c(1000,5) "
   ]
  },
  {
   "cell_type": "code",
   "execution_count": null,
   "id": "80ae85db-b060-455f-8856-ea07834a4cf7",
   "metadata": {
    "id": "80ae85db-b060-455f-8856-ea07834a4cf7",
    "outputId": "e6608924-b82d-4dba-cb89-49821d87cf4b"
   },
   "outputs": [
    {
     "data": {
      "text/plain": [
       "     [,1]           [,2]           [,3]           [,4]           [,5]          \n",
       "[1,] glass          tempered glass glass          tempered glass tempered glass\n",
       "[2,] tempered glass tempered glass glass          tempered glass glass         \n",
       "[3,] tempered glass tempered glass tempered glass glass          glass         \n",
       "[4,] tempered glass tempered glass tempered glass glass          tempered glass\n",
       "[5,] tempered glass tempered glass tempered glass tempered glass tempered glass\n",
       "[6,] tempered glass tempered glass tempered glass tempered glass tempered glass"
      ]
     },
     "metadata": {},
     "output_type": "display_data"
    }
   ],
   "source": [
    "head(mat)"
   ]
  },
  {
   "cell_type": "code",
   "execution_count": null,
   "id": "802c7eec-e421-462b-ac3d-5b19e4c1502f",
   "metadata": {
    "id": "802c7eec-e421-462b-ac3d-5b19e4c1502f",
    "outputId": "3961940c-52b7-48f5-80e6-48b8e791cba7"
   },
   "outputs": [
    {
     "data": {
      "text/plain": [
       "[1] 326"
      ]
     },
     "metadata": {},
     "output_type": "display_data"
    }
   ],
   "source": [
    "test = function(a){\n",
    "    if (a[1] == \"tempered glass\" &\n",
    "        a[2] == \"tempered glass\" & \n",
    "        a[3] == \"tempered glass\" & \n",
    "        a[4] == \"tempered glass\" & \n",
    "        a[5] == \"tempered glass\") b=1 else b=0 \n",
    "    b\n",
    "}\n",
    "rslt = c()\n",
    "for (i in 1:1000){\n",
    "    rslt[i] = test(mat[i,])\n",
    "}\n",
    "sum(rslt)"
   ]
  },
  {
   "cell_type": "markdown",
   "id": "b3727b68-f3fc-4043-9338-84efce265e48",
   "metadata": {
    "id": "b3727b68-f3fc-4043-9338-84efce265e48"
   },
   "source": [
    "#### (풀이5)"
   ]
  },
  {
   "cell_type": "markdown",
   "id": "bc0f44c6-52ee-4fb6-b2a0-82280dd51abc",
   "metadata": {
    "id": "bc0f44c6-52ee-4fb6-b2a0-82280dd51abc"
   },
   "source": [
    "`-` 매트릭스의 원소가 꼭 문자열일 필요는 없는것 같음 "
   ]
  },
  {
   "cell_type": "code",
   "execution_count": null,
   "id": "fa163437-ae54-4f2a-b16a-af93a0e46567",
   "metadata": {
    "id": "fa163437-ae54-4f2a-b16a-af93a0e46567"
   },
   "outputs": [],
   "source": [
    "set = c(1,0)\n",
    "mat= sample(size=1000*5, set, prob=c(0.8,0.2),replace=T) #입력이 없는 함수\n",
    "dim(mat)=c(1000,5) "
   ]
  },
  {
   "cell_type": "code",
   "execution_count": null,
   "id": "eab544ad-e558-4d62-a56e-54b855622638",
   "metadata": {
    "id": "eab544ad-e558-4d62-a56e-54b855622638",
    "outputId": "d16bdc0c-8ee8-401a-c5c1-64cc8d17a535"
   },
   "outputs": [
    {
     "data": {
      "text/plain": [
       "     [,1] [,2] [,3] [,4] [,5]\n",
       "[1,] 1    1    1    1    1   \n",
       "[2,] 1    0    1    1    1   \n",
       "[3,] 1    1    1    1    1   \n",
       "[4,] 0    1    1    0    1   \n",
       "[5,] 1    1    1    1    1   \n",
       "[6,] 0    1    1    1    1   "
      ]
     },
     "metadata": {},
     "output_type": "display_data"
    }
   ],
   "source": [
    "head(mat)"
   ]
  },
  {
   "cell_type": "code",
   "execution_count": null,
   "id": "db30a83f-8347-4b08-a9e9-810117e33004",
   "metadata": {
    "id": "db30a83f-8347-4b08-a9e9-810117e33004",
    "outputId": "90f15890-9341-414a-b9b7-752b0d836425"
   },
   "outputs": [
    {
     "data": {
      "text/plain": [
       "[1] 355"
      ]
     },
     "metadata": {},
     "output_type": "display_data"
    }
   ],
   "source": [
    "test = function(a){\n",
    "    if (a[1] == 1 &\n",
    "        a[2] == 1 & \n",
    "        a[3] == 1 & \n",
    "        a[4] == 1 & \n",
    "        a[5] == 1) b=1 else b=0 \n",
    "    b\n",
    "}\n",
    "rslt = c()\n",
    "for (i in 1:1000){\n",
    "    rslt[i] = test(mat[i,])\n",
    "}\n",
    "sum(rslt)"
   ]
  },
  {
   "cell_type": "markdown",
   "id": "e671f97f-17b9-476b-964b-7610b6a1bc6c",
   "metadata": {
    "id": "e671f97f-17b9-476b-964b-7610b6a1bc6c"
   },
   "source": [
    "`-` 조건도 아래와 같이 간소화할 수있다. "
   ]
  },
  {
   "cell_type": "code",
   "execution_count": null,
   "id": "512a0ab0-cd3d-428a-9726-86a161065277",
   "metadata": {
    "id": "512a0ab0-cd3d-428a-9726-86a161065277",
    "outputId": "368d00cb-24a3-4024-dccd-97c7f3483302"
   },
   "outputs": [
    {
     "data": {
      "text/plain": [
       "[1] 355"
      ]
     },
     "metadata": {},
     "output_type": "display_data"
    }
   ],
   "source": [
    "test = function(a){\n",
    "    if (sum(a)==5) b=1 else b=0 \n",
    "    b\n",
    "}\n",
    "rslt = c()\n",
    "for (i in 1:1000){\n",
    "    rslt[i] = test(mat[i,])\n",
    "}\n",
    "sum(rslt)"
   ]
  },
  {
   "cell_type": "markdown",
   "id": "5ad88c79-7e47-43ea-b6b8-b317220f9d3c",
   "metadata": {
    "id": "5ad88c79-7e47-43ea-b6b8-b317220f9d3c"
   },
   "source": [
    "`-` 아래와 같이 바꿔도 가능 "
   ]
  },
  {
   "cell_type": "code",
   "execution_count": null,
   "id": "ec1886e1-7bc1-483e-a509-2ba4284fa789",
   "metadata": {
    "id": "ec1886e1-7bc1-483e-a509-2ba4284fa789",
    "outputId": "e81fdbf5-ccaf-4ea7-90ad-d4f661c97168"
   },
   "outputs": [
    {
     "data": {
      "text/plain": [
       "[1] 355"
      ]
     },
     "metadata": {},
     "output_type": "display_data"
    }
   ],
   "source": [
    "test = function(a){\n",
    "    if (prod(a)==1) b=1 else b=0 \n",
    "    b\n",
    "}\n",
    "rslt = c()\n",
    "for (i in 1:1000){\n",
    "    rslt[i] = test(mat[i,])\n",
    "}\n",
    "sum(rslt)"
   ]
  },
  {
   "cell_type": "markdown",
   "id": "8fcdeb75-3a89-4994-b94a-7ff8232f2a30",
   "metadata": {
    "id": "8fcdeb75-3a89-4994-b94a-7ff8232f2a30"
   },
   "source": [
    "`-` test함수 자체도 아래와 같이 간소화 가능 "
   ]
  },
  {
   "cell_type": "code",
   "execution_count": null,
   "id": "6b872b07-ca31-4034-b6ef-983fbb3f6888",
   "metadata": {
    "id": "6b872b07-ca31-4034-b6ef-983fbb3f6888"
   },
   "outputs": [],
   "source": [
    "test = function(a){\n",
    "    prod(c(1,0,1,1,1))==1\n",
    "}"
   ]
  },
  {
   "cell_type": "markdown",
   "id": "bf5968d7-7439-4e5e-a659-7782e7a151ca",
   "metadata": {
    "id": "bf5968d7-7439-4e5e-a659-7782e7a151ca"
   },
   "source": [
    "`-` 정리하면 "
   ]
  },
  {
   "cell_type": "code",
   "execution_count": null,
   "id": "5b2e7e10-f1b9-4ec4-8961-caea80940781",
   "metadata": {
    "id": "5b2e7e10-f1b9-4ec4-8961-caea80940781",
    "outputId": "ddfc631c-be1a-435e-c1f5-89710581d9d2"
   },
   "outputs": [
    {
     "data": {
      "text/plain": [
       "     [,1] [,2] [,3] [,4] [,5]\n",
       "[1,] 1    1    1    1    1   \n",
       "[2,] 1    1    1    0    1   \n",
       "[3,] 0    0    1    1    1   \n",
       "[4,] 1    1    1    1    1   \n",
       "[5,] 1    0    1    0    1   \n",
       "[6,] 0    1    0    1    1   "
      ]
     },
     "metadata": {},
     "output_type": "display_data"
    }
   ],
   "source": [
    "set = c(1,0)\n",
    "mat= sample(size=1000*5, set, prob=c(0.8,0.2),replace=T) #입력이 없는 함수\n",
    "dim(mat)=c(1000,5) \n",
    "head(mat)"
   ]
  },
  {
   "cell_type": "code",
   "execution_count": null,
   "id": "c28bfd85-c3be-4831-b6bb-c0c65a8ca11d",
   "metadata": {
    "id": "c28bfd85-c3be-4831-b6bb-c0c65a8ca11d",
    "outputId": "a752f471-a7ed-4531-e0db-665c29f7f4ee"
   },
   "outputs": [
    {
     "data": {
      "text/plain": [
       "[1] 334"
      ]
     },
     "metadata": {},
     "output_type": "display_data"
    }
   ],
   "source": [
    "test = function(a) prod(a)==1\n",
    "rslt = c()\n",
    "for (i in 1:1000){\n",
    "    rslt[i] = test(mat[i,])\n",
    "}\n",
    "sum(rslt)"
   ]
  },
  {
   "cell_type": "markdown",
   "id": "7330a881-69f1-4f3f-9f25-86b3d45f6c14",
   "metadata": {
    "id": "7330a881-69f1-4f3f-9f25-86b3d45f6c14"
   },
   "source": [
    "#### (풀이6) "
   ]
  },
  {
   "cell_type": "markdown",
   "id": "7c41b31e-1596-49b7-b6af-52156bd7e087",
   "metadata": {
    "id": "7c41b31e-1596-49b7-b6af-52156bd7e087"
   },
   "source": [
    "`-` 숫자로 만들고 보니까 베르누이로 뽑아도 괜찮을 것 같다. "
   ]
  },
  {
   "cell_type": "code",
   "execution_count": null,
   "id": "5bd63dd0-4911-45dc-a9d9-aa5445cda9a3",
   "metadata": {
    "id": "5bd63dd0-4911-45dc-a9d9-aa5445cda9a3",
    "outputId": "545c0e4a-45f4-4aea-e1b7-5f208542bd28"
   },
   "outputs": [
    {
     "data": {
      "text/plain": [
       "[1] 1 1 1 1 1"
      ]
     },
     "metadata": {},
     "output_type": "display_data"
    }
   ],
   "source": [
    "rbinom(5,size=1,prob=0.8) # 하나의행 "
   ]
  },
  {
   "cell_type": "markdown",
   "id": "69982564-ad79-4424-864d-577a5e894074",
   "metadata": {
    "id": "69982564-ad79-4424-864d-577a5e894074"
   },
   "source": [
    "- set을 만들 필요가 없음 "
   ]
  },
  {
   "cell_type": "code",
   "execution_count": null,
   "id": "5961f00f-37d6-4e9a-877d-e82ff9803133",
   "metadata": {
    "id": "5961f00f-37d6-4e9a-877d-e82ff9803133",
    "outputId": "06325003-6964-4571-eafc-3c3bf41b0679"
   },
   "outputs": [
    {
     "data": {
      "text/plain": [
       "     [,1] [,2] [,3] [,4] [,5]\n",
       "[1,] 1    1    1    1    0   \n",
       "[2,] 1    1    1    1    1   \n",
       "[3,] 1    1    1    1    1   \n",
       "[4,] 1    1    0    1    1   \n",
       "[5,] 1    1    1    1    0   \n",
       "[6,] 1    1    1    1    1   "
      ]
     },
     "metadata": {},
     "output_type": "display_data"
    }
   ],
   "source": [
    "mat = rbinom(1000*5,size=1,prob=0.8) \n",
    "dim(mat)=c(1000,5) \n",
    "head(mat)"
   ]
  },
  {
   "cell_type": "code",
   "execution_count": null,
   "id": "76e66fdb-6aee-41c8-abcf-2f5df877c47e",
   "metadata": {
    "id": "76e66fdb-6aee-41c8-abcf-2f5df877c47e",
    "outputId": "4d8e2c48-21ca-4039-86e2-b48f35337491"
   },
   "outputs": [
    {
     "data": {
      "text/plain": [
       "[1] 341"
      ]
     },
     "metadata": {},
     "output_type": "display_data"
    }
   ],
   "source": [
    "test = function(a) prod(a)==1\n",
    "rslt = c()\n",
    "for (i in 1:1000){\n",
    "    rslt[i] = test(mat[i,])\n",
    "}\n",
    "sum(rslt)"
   ]
  },
  {
   "cell_type": "markdown",
   "id": "4bf90802-64ab-49bf-a314-28e32be92235",
   "metadata": {
    "id": "4bf90802-64ab-49bf-a314-28e32be92235"
   },
   "source": [
    "#### (풀이7)"
   ]
  },
  {
   "cell_type": "markdown",
   "id": "54f3685f-8cd1-4d47-9415-dd9698cad789",
   "metadata": {
    "id": "54f3685f-8cd1-4d47-9415-dd9698cad789"
   },
   "source": [
    "`-` 매트릭스 옆에 결과를 붙여보자. "
   ]
  },
  {
   "cell_type": "code",
   "execution_count": null,
   "id": "49cf0c3d-72b3-4124-b1d6-ba204e5e1c6b",
   "metadata": {
    "id": "49cf0c3d-72b3-4124-b1d6-ba204e5e1c6b",
    "outputId": "f96e901e-febe-4fbe-b089-ea8ac04d2808"
   },
   "outputs": [
    {
     "data": {
      "text/plain": [
       "     [,1] [,2] [,3] [,4] [,5]\n",
       "[1,] 1    1    1    1    1   \n",
       "[2,] 1    0    1    1    1   \n",
       "[3,] 1    1    1    0    1   \n",
       "[4,] 1    1    0    0    1   \n",
       "[5,] 1    0    0    1    0   \n",
       "[6,] 0    1    1    0    1   "
      ]
     },
     "metadata": {},
     "output_type": "display_data"
    }
   ],
   "source": [
    "mat = rbinom(1000*5,size=1,prob=0.8) \n",
    "dim(mat)=c(1000,5) \n",
    "head(mat)"
   ]
  },
  {
   "cell_type": "code",
   "execution_count": null,
   "id": "4975ed0f-f112-4d15-87b7-808b9ba05baf",
   "metadata": {
    "id": "4975ed0f-f112-4d15-87b7-808b9ba05baf"
   },
   "outputs": [],
   "source": [
    "test = function(a) prod(a)==1\n",
    "rslt = c()\n",
    "for (i in 1:1000){\n",
    "    rslt[i] = test(mat[i,])\n",
    "}"
   ]
  },
  {
   "cell_type": "code",
   "execution_count": null,
   "id": "e6f7f7ae-74e5-477d-89e8-94f7697d6b9b",
   "metadata": {
    "id": "e6f7f7ae-74e5-477d-89e8-94f7697d6b9b",
    "outputId": "42102de8-e44c-4467-db38-ce52375411c5"
   },
   "outputs": [
    {
     "data": {
      "text/plain": [
       "                rslt\n",
       " [1,] 1 1 1 1 1 1   \n",
       " [2,] 1 0 1 1 1 0   \n",
       " [3,] 1 1 1 0 1 0   \n",
       " [4,] 1 1 0 0 1 0   \n",
       " [5,] 1 0 0 1 0 0   \n",
       " [6,] 0 1 1 0 1 0   \n",
       " [7,] 1 1 0 0 1 0   \n",
       " [8,] 0 1 1 1 1 0   \n",
       " [9,] 1 1 1 1 1 1   \n",
       "[10,] 0 1 1 0 1 0   \n",
       "[11,] 1 1 1 0 1 0   \n",
       "[12,] 0 1 1 1 0 0   \n",
       "[13,] 1 1 1 1 1 1   \n",
       "[14,] 1 1 1 0 0 0   \n",
       "[15,] 1 1 1 1 1 1   \n",
       "[16,] 1 1 1 1 1 1   \n",
       "[17,] 1 1 1 1 1 1   \n",
       "[18,] 1 1 1 1 1 1   \n",
       "[19,] 0 1 1 1 1 0   \n",
       "[20,] 0 1 1 1 0 0   "
      ]
     },
     "metadata": {},
     "output_type": "display_data"
    }
   ],
   "source": [
    "cbind(mat,rslt)[1:20,]"
   ]
  },
  {
   "cell_type": "markdown",
   "id": "5c2ac328-2add-4f9b-b1eb-f3f982ae28ff",
   "metadata": {
    "id": "5c2ac328-2add-4f9b-b1eb-f3f982ae28ff"
   },
   "source": [
    "#### (풀이8) for문을 하나도 사용하지 않은 풀이"
   ]
  },
  {
   "cell_type": "markdown",
   "id": "b343e440-42c0-46ef-8514-e36a726d6b91",
   "metadata": {
    "id": "b343e440-42c0-46ef-8514-e36a726d6b91"
   },
   "source": [
    "`-` 매트릭스의 각 row에 어떠한 함수를 반복적으로 적용하는 형태임 $\\to$ apply "
   ]
  },
  {
   "cell_type": "code",
   "execution_count": null,
   "id": "28dec1ba-cae5-4623-88f3-cff71741923f",
   "metadata": {
    "id": "28dec1ba-cae5-4623-88f3-cff71741923f",
    "outputId": "7f1a9fd1-123f-4607-bbec-add514b3ae9e"
   },
   "outputs": [
    {
     "data": {
      "text/plain": [
       "     [,1] [,2] [,3] [,4] [,5]\n",
       "[1,] 0    1    1    1    1   \n",
       "[2,] 0    1    0    1    1   \n",
       "[3,] 1    1    0    1    1   \n",
       "[4,] 1    1    1    1    1   \n",
       "[5,] 0    1    1    0    0   \n",
       "[6,] 1    1    0    1    1   "
      ]
     },
     "metadata": {},
     "output_type": "display_data"
    }
   ],
   "source": [
    "mat = rbinom(1000*5,size=1,prob=0.8) \n",
    "dim(mat)=c(1000,5) \n",
    "head(mat)"
   ]
  },
  {
   "cell_type": "code",
   "execution_count": null,
   "id": "0449691c-b938-4b40-a2c5-6da43a9bd659",
   "metadata": {
    "id": "0449691c-b938-4b40-a2c5-6da43a9bd659",
    "outputId": "de1d00f2-6368-4ff2-9ac2-706b51d64eea"
   },
   "outputs": [
    {
     "data": {
      "text/plain": [
       "[1] 331"
      ]
     },
     "metadata": {},
     "output_type": "display_data"
    }
   ],
   "source": [
    "sum(apply(mat,1,test))"
   ]
  },
  {
   "cell_type": "code",
   "execution_count": null,
   "id": "d757b98b-e70f-45bd-ad70-50a60b63c03b",
   "metadata": {
    "id": "d757b98b-e70f-45bd-ad70-50a60b63c03b",
    "outputId": "ccf70d86-fa9d-418d-eca2-6912049dbf0b"
   },
   "outputs": [
    {
     "data": {
      "text/plain": [
       "[1] 331"
      ]
     },
     "metadata": {},
     "output_type": "display_data"
    }
   ],
   "source": [
    "apply(mat,1,test) %>% sum"
   ]
  },
  {
   "cell_type": "code",
   "execution_count": null,
   "id": "67aa59d8-c3e5-4a4a-8a81-fdb883adcb5c",
   "metadata": {
    "id": "67aa59d8-c3e5-4a4a-8a81-fdb883adcb5c",
    "outputId": "d99d464a-f88a-46b6-9e2e-038a63f4537d"
   },
   "outputs": [
    {
     "data": {
      "text/plain": [
       "[1] 331"
      ]
     },
     "metadata": {},
     "output_type": "display_data"
    }
   ],
   "source": [
    "mat %>% apply(1,test) %>% sum"
   ]
  },
  {
   "cell_type": "markdown",
   "id": "940f010d-01eb-46a3-bad0-37fc16ab30d5",
   "metadata": {
    "id": "940f010d-01eb-46a3-bad0-37fc16ab30d5"
   },
   "source": [
    "#### (풀이9) "
   ]
  },
  {
   "cell_type": "markdown",
   "id": "ee777967-93d9-4412-8313-6d4a54fde43b",
   "metadata": {
    "id": "ee777967-93d9-4412-8313-6d4a54fde43b"
   },
   "source": [
    "`-` 바이노미알 이용: 어차피 베르누이의 합은 바이노미알이라고 했음 "
   ]
  },
  {
   "cell_type": "code",
   "execution_count": null,
   "id": "6ab09cfe-9b64-4580-b82d-e57fd4302c6c",
   "metadata": {
    "id": "6ab09cfe-9b64-4580-b82d-e57fd4302c6c",
    "outputId": "1618898a-0ef8-4e34-a272-42b8bd6e7b15"
   },
   "outputs": [
    {
     "data": {
      "text/plain": [
       "[1] 344"
      ]
     },
     "metadata": {},
     "output_type": "display_data"
    }
   ],
   "source": [
    "sum(rbinom(1000,size=5,p=0.8)==5)"
   ]
  },
  {
   "cell_type": "markdown",
   "id": "7a5e7f3a-7689-4d90-b409-f8467adb395d",
   "metadata": {
    "id": "7a5e7f3a-7689-4d90-b409-f8467adb395d"
   },
   "source": [
    "### 숙제 "
   ]
  },
  {
   "cell_type": "markdown",
   "id": "f28f55c6-e697-4e61-a103-0e70ecb356c7",
   "metadata": {
    "id": "f28f55c6-e697-4e61-a103-0e70ecb356c7"
   },
   "source": [
    "**징검다리 문제**"
   ]
  },
  {
   "cell_type": "markdown",
   "id": "eaa99649-a4b5-4f87-b505-6c72178e1aeb",
   "metadata": {
    "id": "eaa99649-a4b5-4f87-b505-6c72178e1aeb"
   },
   "source": [
    "강화유리와 유리를 랜덤으로 찍는 참가자가 2명 있다고 하자. (따라서 강화유리를 고를 확률이 50%이다.) "
   ]
  },
  {
   "cell_type": "markdown",
   "id": "8ffbf9bc-3dde-4ce0-be53-359de361c198",
   "metadata": {
    "id": "8ffbf9bc-3dde-4ce0-be53-359de361c198"
   },
   "source": [
    "(강화유리, 유리)의 징검다리가 3개 있다고 하자. (따라서 총 6개의 유리가 있고, 3번연속으로 강화유리를 고르면 2명 모두 살아남는다) "
   ]
  },
  {
   "cell_type": "markdown",
   "id": "e80ec47c-96b3-4508-a35b-044bbec3e5c0",
   "metadata": {
    "id": "e80ec47c-96b3-4508-a35b-044bbec3e5c0"
   },
   "source": [
    "8000번의 시뮬레이션을 하였을 경우 아래의 질문에 답하라. "
   ]
  },
  {
   "cell_type": "markdown",
   "id": "543804f1-fda5-4ef1-a89b-a597f35bad64",
   "metadata": {
    "id": "543804f1-fda5-4ef1-a89b-a597f35bad64"
   },
   "source": [
    "(질문1) 2명 모두 살아남는 경우는 몇번인가? 약 1000번 \n",
    "\n",
    "(질문2) 1명만 살아남는 경우는 몇번정도인가? 약 3000번 정도.. "
   ]
  },
  {
   "cell_type": "markdown",
   "id": "da192661-a6e9-4b83-8e9c-e90eec1d1f3b",
   "metadata": {
    "id": "da192661-a6e9-4b83-8e9c-e90eec1d1f3b"
   },
   "source": [
    "***(풀이)***"
   ]
  },
  {
   "cell_type": "markdown",
   "id": "7d243d4a-0e8a-4652-b619-432e7d5d111d",
   "metadata": {
    "id": "7d243d4a-0e8a-4652-b619-432e7d5d111d"
   },
   "source": [
    "질문1: 확률이 0.5인 시행을 3번하여 3번 모두 성공하는 경우 "
   ]
  },
  {
   "cell_type": "code",
   "execution_count": 6,
   "id": "bbea3e4a-2c73-4085-9331-2e9ae50f5662",
   "metadata": {
    "id": "bbea3e4a-2c73-4085-9331-2e9ae50f5662",
    "outputId": "09e04d89-9fed-450f-a6ee-645407275047"
   },
   "outputs": [
    {
     "data": {
      "text/html": [
       "1003"
      ],
      "text/latex": [
       "1003"
      ],
      "text/markdown": [
       "1003"
      ],
      "text/plain": [
       "[1] 1003"
      ]
     },
     "metadata": {},
     "output_type": "display_data"
    }
   ],
   "source": [
    "sum(rbinom(8000,size=3,p=0.5)==3) "
   ]
  },
  {
   "cell_type": "markdown",
   "id": "e33bb201-8124-4566-907c-030a7f756e77",
   "metadata": {
    "id": "e33bb201-8124-4566-907c-030a7f756e77"
   },
   "source": [
    "질문2: 확률이 0.5인 시행을 3번하여 2번 성공하는 경우 "
   ]
  },
  {
   "cell_type": "code",
   "execution_count": 7,
   "id": "8a310f07-7f0c-4a6c-9610-a7bce9bc32b6",
   "metadata": {
    "id": "8a310f07-7f0c-4a6c-9610-a7bce9bc32b6",
    "outputId": "d560e708-8cd0-427a-bbe6-c9a559da638f"
   },
   "outputs": [
    {
     "data": {
      "text/html": [
       "3003"
      ],
      "text/latex": [
       "3003"
      ],
      "text/markdown": [
       "3003"
      ],
      "text/plain": [
       "[1] 3003"
      ]
     },
     "metadata": {},
     "output_type": "display_data"
    }
   ],
   "source": [
    "sum(rbinom(8000,size=3,p=0.5)==2) "
   ]
  },
  {
   "cell_type": "code",
   "execution_count": null,
   "id": "b3ff5f61-e293-4c00-8c1d-39bdf29a7767",
   "metadata": {},
   "outputs": [],
   "source": []
  }
 ],
 "metadata": {
  "colab": {
   "name": "2021-11-23-(11주차) 11월23일.ipynb",
   "provenance": []
  },
  "kernelspec": {
   "display_name": "R",
   "language": "R",
   "name": "ir"
  },
  "language_info": {
   "codemirror_mode": "r",
   "file_extension": ".r",
   "mimetype": "text/x-r-source",
   "name": "R",
   "pygments_lexer": "r",
   "version": "4.0.2"
  }
 },
 "nbformat": 4,
 "nbformat_minor": 5
}
